{
 "cells": [
  {
   "cell_type": "code",
   "execution_count": 1,
   "id": "2bb1f0fd-0be1-48b3-a5e9-25df911137f9",
   "metadata": {},
   "outputs": [],
   "source": [
    "import pandas as pd\n",
    "from tabulate import tabulate\n",
    "import plotly.express as px\n",
    "import sys\n",
    "import os\n",
    "# Add the parent directory to sys.path\n",
    "project_root = os.path.abspath(\"..\")\n",
    "if project_root not in sys.path:\n",
    "    sys.path.append(project_root)\n",
    "\n",
    "from scripts.convert_to_csv import xml_to_csv, convert_excel_to_csv\n",
    "from scripts.generate_report import process_and_generate_report\n",
    "from scripts.modules.uniquevalues import generate_unique_values_report\n",
    "\n",
    "# CONSTANTS\n",
    "raw_data_file_path = '/Users/selinamangaroo/Desktop/data-visualization/data/Rice_County_Data'\n",
    "converted_file_path = '/Users/selinamangaroo/Desktop/data-visualization/data/Rice_County_Data_csv'\n",
    "dropped_file_path = '/Users/selinamangaroo/Desktop/data-visualization/data/malhm_murray_data_nov_2024_csv_dropped/MurrayArchives_dropped.csv'\n",
    "unique_value_columns = [\"subjects\", \"narrator\", \"event\"]\n",
    "\n",
    "# Convert XML to CSV\n",
    "# xml_to_csv(raw_data_file_path)\n",
    "\n",
    "# Convert Excel files to CSV\n",
    "# convert_excel_to_csv(raw_data_file_path)\n",
    "\n"
   ]
  },
  {
   "cell_type": "code",
   "execution_count": 2,
   "id": "477d9b8c-e97e-4575-8d3e-eb133ea37ba1",
   "metadata": {
    "scrolled": true
   },
   "outputs": [
    {
     "name": "stdout",
     "output_type": "stream",
     "text": [
      "PDF report generated: /Users/selinamangaroo/Desktop/data-visualization/reports/Rice_County_Data_csv_report.pdf\n"
     ]
    }
   ],
   "source": [
    "# process_and_generate_report(converted_file_path)\n",
    "process_and_generate_report(\n",
    "    input_path=converted_file_path,\n",
    "    report_configs=[\n",
    "        {\"report\": \"coverpage\", \"options\": {\"title\": \"Rice Data\"}},\n",
    "        {\"report\": \"summary\", \"options\": {}},\n",
    "        {\"report\": \"barcharts\", \"options\": {\"chunk_size\": 40, \"xaxis_label\": \"Columns\", \"yaxis_label\": \"Unique Values\"}},\n",
    "        {\"report\": \"basicDataAnalysis\", \"options\": {}}\n",
    "    ],\n",
    "    general_options={\"page_numbering\": True}\n",
    ")\n"
   ]
  },
  {
   "cell_type": "code",
   "execution_count": 3,
   "id": "d39bf196-92fe-4a07-aefd-774b213db961",
   "metadata": {},
   "outputs": [
    {
     "name": "stdout",
     "output_type": "stream",
     "text": [
      "PDF report generated: /Users/selinamangaroo/Desktop/data-visualization/reports/MurrayArchives_dropped_unique_vals.pdf\n"
     ]
    }
   ],
   "source": [
    "generate_unique_values_report(dropped_file_path, unique_value_columns)"
   ]
  },
  {
   "cell_type": "code",
   "execution_count": null,
   "id": "2590ba53-32c0-4824-b274-bf32e6a7e4f9",
   "metadata": {
    "scrolled": true
   },
   "outputs": [],
   "source": []
  }
 ],
 "metadata": {
  "kernelspec": {
   "display_name": "Python 3 (ipykernel)",
   "language": "python",
   "name": "python3"
  },
  "language_info": {
   "codemirror_mode": {
    "name": "ipython",
    "version": 3
   },
   "file_extension": ".py",
   "mimetype": "text/x-python",
   "name": "python",
   "nbconvert_exporter": "python",
   "pygments_lexer": "ipython3",
   "version": "3.12.4"
  }
 },
 "nbformat": 4,
 "nbformat_minor": 5
}
