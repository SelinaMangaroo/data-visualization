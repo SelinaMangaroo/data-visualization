{
 "cells": [
  {
   "cell_type": "code",
   "execution_count": 1,
   "id": "2bb1f0fd-0be1-48b3-a5e9-25df911137f9",
   "metadata": {},
   "outputs": [
    {
     "name": "stdout",
     "output_type": "stream",
     "text": [
      "Processing file: /Users/selinamangaroo/Desktop/data-visualization/data/Dinosaur_State_Park/ppslibrary.xls\n",
      "WARNING *** file size (45147) not 512 + multiple of sector size (512)\n",
      "WARNING *** OLE2 inconsistency: SSCS size is 0 but SSAT size is non-zero\n",
      "*** No CODEPAGE record, no encoding_override: will use 'iso-8859-1'\n",
      "Converted /Users/selinamangaroo/Desktop/data-visualization/data/Dinosaur_State_Park/ppslibrary.xls to /Users/selinamangaroo/Desktop/data-visualization/data/Dinosaur_State_Park_csv/ppslibrary.csv\n",
      "Processing file: /Users/selinamangaroo/Desktop/data-visualization/data/Dinosaur_State_Park/ppsacession.xls\n",
      "WARNING *** file size (59070) not 512 + multiple of sector size (512)\n",
      "WARNING *** OLE2 inconsistency: SSCS size is 0 but SSAT size is non-zero\n",
      "*** No CODEPAGE record, no encoding_override: will use 'iso-8859-1'\n",
      "Converted /Users/selinamangaroo/Desktop/data-visualization/data/Dinosaur_State_Park/ppsacession.xls to /Users/selinamangaroo/Desktop/data-visualization/data/Dinosaur_State_Park_csv/ppsacession.csv\n",
      "Processing file: /Users/selinamangaroo/Desktop/data-visualization/data/Dinosaur_State_Park/ppsdata.xls\n",
      "WARNING *** OLE2 inconsistency: SSCS size is 0 but SSAT size is non-zero\n",
      "*** No CODEPAGE record, no encoding_override: will use 'iso-8859-1'\n",
      "Converted /Users/selinamangaroo/Desktop/data-visualization/data/Dinosaur_State_Park/ppsdata.xls to /Users/selinamangaroo/Desktop/data-visualization/data/Dinosaur_State_Park_csv/ppsdata.csv\n",
      "Processing file: /Users/selinamangaroo/Desktop/data-visualization/data/Dinosaur_State_Park/ppsarchives.xls\n",
      "WARNING *** file size (52715) not 512 + multiple of sector size (512)\n",
      "WARNING *** OLE2 inconsistency: SSCS size is 0 but SSAT size is non-zero\n",
      "*** No CODEPAGE record, no encoding_override: will use 'iso-8859-1'\n",
      "Converted /Users/selinamangaroo/Desktop/data-visualization/data/Dinosaur_State_Park/ppsarchives.xls to /Users/selinamangaroo/Desktop/data-visualization/data/Dinosaur_State_Park_csv/ppsarchives.csv\n",
      "Processing file: /Users/selinamangaroo/Desktop/data-visualization/data/Dinosaur_State_Park/ppsphotos.xls\n",
      "WARNING *** OLE2 inconsistency: SSCS size is 0 but SSAT size is non-zero\n",
      "*** No CODEPAGE record, no encoding_override: will use 'iso-8859-1'\n",
      "Converted /Users/selinamangaroo/Desktop/data-visualization/data/Dinosaur_State_Park/ppsphotos.xls to /Users/selinamangaroo/Desktop/data-visualization/data/Dinosaur_State_Park_csv/ppsphotos.csv\n"
     ]
    }
   ],
   "source": [
    "import pandas as pd\n",
    "from tabulate import tabulate\n",
    "import plotly.express as px\n",
    "import sys\n",
    "import os\n",
    "# Add the parent directory to sys.path\n",
    "project_root = os.path.abspath(\"..\")\n",
    "if project_root not in sys.path:\n",
    "    sys.path.append(project_root)\n",
    "\n",
    "from scripts.convert_to_csv import xml_to_csv, convert_excel_to_csv\n",
    "from scripts.data_processing import process_and_generate_report\n",
    "\n",
    "# Convert XML to CSV\n",
    "# xml_to_csv('/Users/selinamangaroo/Desktop/data-visualization/data/malhm_murray_data_nov_2024')\n",
    "\n",
    "# Convert Excel files to CSV\n",
    "convert_excel_to_csv('/Users/selinamangaroo/Desktop/data-visualization/data/Dinosaur_State_Park')"
   ]
  },
  {
   "cell_type": "code",
   "execution_count": 4,
   "id": "bcb22a43",
   "metadata": {},
   "outputs": [
    {
     "name": "stdout",
     "output_type": "stream",
     "text": [
      "<class 'pandas.core.frame.DataFrame'>\n",
      "Index: 97 entries, E-011 to nan\n",
      "Columns: 143 entries, acqvalue to ppid\n",
      "dtypes: bool(1), float64(84), int64(11), object(47)\n",
      "memory usage: 108.5+ KB\n",
      "None\n"
     ]
    }
   ],
   "source": [
    "csv_file_path = '/Users/selinamangaroo/Desktop/data-visualization/data/malhm_murray_data_nov_2024_csv/MurrayLibrary.csv'\n",
    "df = pd.read_csv(csv_file_path, index_col=0, low_memory=False)\n",
    "\n",
    "print(df.info()) "
   ]
  },
  {
   "cell_type": "code",
   "execution_count": 6,
   "id": "477d9b8c-e97e-4575-8d3e-eb133ea37ba1",
   "metadata": {},
   "outputs": [
    {
     "name": "stdout",
     "output_type": "stream",
     "text": [
      "Original DataFrame Info:\n",
      "<class 'pandas.core.frame.DataFrame'>\n",
      "Index: 97 entries, E-011 to nan\n",
      "Columns: 143 entries, acqvalue to ppid\n",
      "dtypes: bool(1), float64(84), int64(11), object(47)\n",
      "memory usage: 108.5+ KB\n",
      "None\n"
     ]
    },
    {
     "data": {
      "application/vnd.plotly.v1+json": {
       "config": {
        "plotlyServerURL": "https://plot.ly"
       },
       "data": [
        {
         "alignmentgroup": "True",
         "hovertemplate": "Column=%{x}<br>Unique Count=%{text}<extra></extra>",
         "legendgroup": "",
         "marker": {
          "color": "#636efa",
          "pattern": {
           "shape": ""
          }
         },
         "name": "",
         "offsetgroup": "",
         "orientation": "v",
         "showlegend": false,
         "text": [
          97,
          97,
          97,
          97,
          89,
          87,
          86,
          84,
          78,
          76,
          58,
          41,
          38,
          18,
          18,
          16,
          16,
          13,
          11,
          11,
          8,
          7,
          7,
          6,
          6,
          6,
          6,
          6,
          5,
          5,
          5,
          5,
          5,
          4,
          4,
          4,
          4,
          4,
          4,
          3,
          3,
          3,
          3,
          3,
          3,
          2,
          2,
          2,
          2,
          1,
          1,
          1,
          1,
          1,
          1,
          1,
          1,
          1,
          1,
          1,
          1,
          1,
          1,
          1,
          1
         ],
         "textposition": "outside",
         "type": "bar",
         "x": [
          "ppid",
          "updated",
          "objectid",
          "imagefile",
          "title",
          "callno",
          "creator",
          "physdesc",
          "caption",
          "publisher",
          "date",
          "descrip",
          "subjects",
          "pubplace",
          "authorx",
          "latedate",
          "earlydate",
          "titlex",
          "maintdate",
          "catdate",
          "recfrom",
          "objname",
          "statusdate",
          "people",
          "recdate",
          "imageno",
          "condnotes",
          "collection",
          "spinelbl",
          "provenance",
          "language",
          "catby",
          "credit",
          "conddate",
          "locfield1",
          "condition",
          "locfield4",
          "sterms",
          "statusby",
          "status",
          "locfield2",
          "isbn",
          "classes",
          "homeloc",
          "condexam",
          "objname2",
          "recas",
          "series",
          "event",
          "udf13",
          "webinclude",
          "updatedby",
          "udf17",
          "udf16",
          "udf15",
          "udf14",
          "curvalmax",
          "copyno",
          "longdeg",
          "curvalue",
          "exhibitno",
          "insvalue",
          "latdeg",
          "loanno",
          "acqvalue"
         ],
         "xaxis": "x",
         "y": [
          97,
          97,
          97,
          97,
          89,
          87,
          86,
          84,
          78,
          76,
          58,
          41,
          38,
          18,
          18,
          16,
          16,
          13,
          11,
          11,
          8,
          7,
          7,
          6,
          6,
          6,
          6,
          6,
          5,
          5,
          5,
          5,
          5,
          4,
          4,
          4,
          4,
          4,
          4,
          3,
          3,
          3,
          3,
          3,
          3,
          2,
          2,
          2,
          2,
          1,
          1,
          1,
          1,
          1,
          1,
          1,
          1,
          1,
          1,
          1,
          1,
          1,
          1,
          1,
          1
         ],
         "yaxis": "y"
        }
       ],
       "layout": {
        "barmode": "relative",
        "legend": {
         "tracegroupgap": 0
        },
        "template": {
         "data": {
          "bar": [
           {
            "error_x": {
             "color": "#2a3f5f"
            },
            "error_y": {
             "color": "#2a3f5f"
            },
            "marker": {
             "line": {
              "color": "#E5ECF6",
              "width": 0.5
             },
             "pattern": {
              "fillmode": "overlay",
              "size": 10,
              "solidity": 0.2
             }
            },
            "type": "bar"
           }
          ],
          "barpolar": [
           {
            "marker": {
             "line": {
              "color": "#E5ECF6",
              "width": 0.5
             },
             "pattern": {
              "fillmode": "overlay",
              "size": 10,
              "solidity": 0.2
             }
            },
            "type": "barpolar"
           }
          ],
          "carpet": [
           {
            "aaxis": {
             "endlinecolor": "#2a3f5f",
             "gridcolor": "white",
             "linecolor": "white",
             "minorgridcolor": "white",
             "startlinecolor": "#2a3f5f"
            },
            "baxis": {
             "endlinecolor": "#2a3f5f",
             "gridcolor": "white",
             "linecolor": "white",
             "minorgridcolor": "white",
             "startlinecolor": "#2a3f5f"
            },
            "type": "carpet"
           }
          ],
          "choropleth": [
           {
            "colorbar": {
             "outlinewidth": 0,
             "ticks": ""
            },
            "type": "choropleth"
           }
          ],
          "contour": [
           {
            "colorbar": {
             "outlinewidth": 0,
             "ticks": ""
            },
            "colorscale": [
             [
              0,
              "#0d0887"
             ],
             [
              0.1111111111111111,
              "#46039f"
             ],
             [
              0.2222222222222222,
              "#7201a8"
             ],
             [
              0.3333333333333333,
              "#9c179e"
             ],
             [
              0.4444444444444444,
              "#bd3786"
             ],
             [
              0.5555555555555556,
              "#d8576b"
             ],
             [
              0.6666666666666666,
              "#ed7953"
             ],
             [
              0.7777777777777778,
              "#fb9f3a"
             ],
             [
              0.8888888888888888,
              "#fdca26"
             ],
             [
              1,
              "#f0f921"
             ]
            ],
            "type": "contour"
           }
          ],
          "contourcarpet": [
           {
            "colorbar": {
             "outlinewidth": 0,
             "ticks": ""
            },
            "type": "contourcarpet"
           }
          ],
          "heatmap": [
           {
            "colorbar": {
             "outlinewidth": 0,
             "ticks": ""
            },
            "colorscale": [
             [
              0,
              "#0d0887"
             ],
             [
              0.1111111111111111,
              "#46039f"
             ],
             [
              0.2222222222222222,
              "#7201a8"
             ],
             [
              0.3333333333333333,
              "#9c179e"
             ],
             [
              0.4444444444444444,
              "#bd3786"
             ],
             [
              0.5555555555555556,
              "#d8576b"
             ],
             [
              0.6666666666666666,
              "#ed7953"
             ],
             [
              0.7777777777777778,
              "#fb9f3a"
             ],
             [
              0.8888888888888888,
              "#fdca26"
             ],
             [
              1,
              "#f0f921"
             ]
            ],
            "type": "heatmap"
           }
          ],
          "heatmapgl": [
           {
            "colorbar": {
             "outlinewidth": 0,
             "ticks": ""
            },
            "colorscale": [
             [
              0,
              "#0d0887"
             ],
             [
              0.1111111111111111,
              "#46039f"
             ],
             [
              0.2222222222222222,
              "#7201a8"
             ],
             [
              0.3333333333333333,
              "#9c179e"
             ],
             [
              0.4444444444444444,
              "#bd3786"
             ],
             [
              0.5555555555555556,
              "#d8576b"
             ],
             [
              0.6666666666666666,
              "#ed7953"
             ],
             [
              0.7777777777777778,
              "#fb9f3a"
             ],
             [
              0.8888888888888888,
              "#fdca26"
             ],
             [
              1,
              "#f0f921"
             ]
            ],
            "type": "heatmapgl"
           }
          ],
          "histogram": [
           {
            "marker": {
             "pattern": {
              "fillmode": "overlay",
              "size": 10,
              "solidity": 0.2
             }
            },
            "type": "histogram"
           }
          ],
          "histogram2d": [
           {
            "colorbar": {
             "outlinewidth": 0,
             "ticks": ""
            },
            "colorscale": [
             [
              0,
              "#0d0887"
             ],
             [
              0.1111111111111111,
              "#46039f"
             ],
             [
              0.2222222222222222,
              "#7201a8"
             ],
             [
              0.3333333333333333,
              "#9c179e"
             ],
             [
              0.4444444444444444,
              "#bd3786"
             ],
             [
              0.5555555555555556,
              "#d8576b"
             ],
             [
              0.6666666666666666,
              "#ed7953"
             ],
             [
              0.7777777777777778,
              "#fb9f3a"
             ],
             [
              0.8888888888888888,
              "#fdca26"
             ],
             [
              1,
              "#f0f921"
             ]
            ],
            "type": "histogram2d"
           }
          ],
          "histogram2dcontour": [
           {
            "colorbar": {
             "outlinewidth": 0,
             "ticks": ""
            },
            "colorscale": [
             [
              0,
              "#0d0887"
             ],
             [
              0.1111111111111111,
              "#46039f"
             ],
             [
              0.2222222222222222,
              "#7201a8"
             ],
             [
              0.3333333333333333,
              "#9c179e"
             ],
             [
              0.4444444444444444,
              "#bd3786"
             ],
             [
              0.5555555555555556,
              "#d8576b"
             ],
             [
              0.6666666666666666,
              "#ed7953"
             ],
             [
              0.7777777777777778,
              "#fb9f3a"
             ],
             [
              0.8888888888888888,
              "#fdca26"
             ],
             [
              1,
              "#f0f921"
             ]
            ],
            "type": "histogram2dcontour"
           }
          ],
          "mesh3d": [
           {
            "colorbar": {
             "outlinewidth": 0,
             "ticks": ""
            },
            "type": "mesh3d"
           }
          ],
          "parcoords": [
           {
            "line": {
             "colorbar": {
              "outlinewidth": 0,
              "ticks": ""
             }
            },
            "type": "parcoords"
           }
          ],
          "pie": [
           {
            "automargin": true,
            "type": "pie"
           }
          ],
          "scatter": [
           {
            "fillpattern": {
             "fillmode": "overlay",
             "size": 10,
             "solidity": 0.2
            },
            "type": "scatter"
           }
          ],
          "scatter3d": [
           {
            "line": {
             "colorbar": {
              "outlinewidth": 0,
              "ticks": ""
             }
            },
            "marker": {
             "colorbar": {
              "outlinewidth": 0,
              "ticks": ""
             }
            },
            "type": "scatter3d"
           }
          ],
          "scattercarpet": [
           {
            "marker": {
             "colorbar": {
              "outlinewidth": 0,
              "ticks": ""
             }
            },
            "type": "scattercarpet"
           }
          ],
          "scattergeo": [
           {
            "marker": {
             "colorbar": {
              "outlinewidth": 0,
              "ticks": ""
             }
            },
            "type": "scattergeo"
           }
          ],
          "scattergl": [
           {
            "marker": {
             "colorbar": {
              "outlinewidth": 0,
              "ticks": ""
             }
            },
            "type": "scattergl"
           }
          ],
          "scattermapbox": [
           {
            "marker": {
             "colorbar": {
              "outlinewidth": 0,
              "ticks": ""
             }
            },
            "type": "scattermapbox"
           }
          ],
          "scatterpolar": [
           {
            "marker": {
             "colorbar": {
              "outlinewidth": 0,
              "ticks": ""
             }
            },
            "type": "scatterpolar"
           }
          ],
          "scatterpolargl": [
           {
            "marker": {
             "colorbar": {
              "outlinewidth": 0,
              "ticks": ""
             }
            },
            "type": "scatterpolargl"
           }
          ],
          "scatterternary": [
           {
            "marker": {
             "colorbar": {
              "outlinewidth": 0,
              "ticks": ""
             }
            },
            "type": "scatterternary"
           }
          ],
          "surface": [
           {
            "colorbar": {
             "outlinewidth": 0,
             "ticks": ""
            },
            "colorscale": [
             [
              0,
              "#0d0887"
             ],
             [
              0.1111111111111111,
              "#46039f"
             ],
             [
              0.2222222222222222,
              "#7201a8"
             ],
             [
              0.3333333333333333,
              "#9c179e"
             ],
             [
              0.4444444444444444,
              "#bd3786"
             ],
             [
              0.5555555555555556,
              "#d8576b"
             ],
             [
              0.6666666666666666,
              "#ed7953"
             ],
             [
              0.7777777777777778,
              "#fb9f3a"
             ],
             [
              0.8888888888888888,
              "#fdca26"
             ],
             [
              1,
              "#f0f921"
             ]
            ],
            "type": "surface"
           }
          ],
          "table": [
           {
            "cells": {
             "fill": {
              "color": "#EBF0F8"
             },
             "line": {
              "color": "white"
             }
            },
            "header": {
             "fill": {
              "color": "#C8D4E3"
             },
             "line": {
              "color": "white"
             }
            },
            "type": "table"
           }
          ]
         },
         "layout": {
          "annotationdefaults": {
           "arrowcolor": "#2a3f5f",
           "arrowhead": 0,
           "arrowwidth": 1
          },
          "autotypenumbers": "strict",
          "coloraxis": {
           "colorbar": {
            "outlinewidth": 0,
            "ticks": ""
           }
          },
          "colorscale": {
           "diverging": [
            [
             0,
             "#8e0152"
            ],
            [
             0.1,
             "#c51b7d"
            ],
            [
             0.2,
             "#de77ae"
            ],
            [
             0.3,
             "#f1b6da"
            ],
            [
             0.4,
             "#fde0ef"
            ],
            [
             0.5,
             "#f7f7f7"
            ],
            [
             0.6,
             "#e6f5d0"
            ],
            [
             0.7,
             "#b8e186"
            ],
            [
             0.8,
             "#7fbc41"
            ],
            [
             0.9,
             "#4d9221"
            ],
            [
             1,
             "#276419"
            ]
           ],
           "sequential": [
            [
             0,
             "#0d0887"
            ],
            [
             0.1111111111111111,
             "#46039f"
            ],
            [
             0.2222222222222222,
             "#7201a8"
            ],
            [
             0.3333333333333333,
             "#9c179e"
            ],
            [
             0.4444444444444444,
             "#bd3786"
            ],
            [
             0.5555555555555556,
             "#d8576b"
            ],
            [
             0.6666666666666666,
             "#ed7953"
            ],
            [
             0.7777777777777778,
             "#fb9f3a"
            ],
            [
             0.8888888888888888,
             "#fdca26"
            ],
            [
             1,
             "#f0f921"
            ]
           ],
           "sequentialminus": [
            [
             0,
             "#0d0887"
            ],
            [
             0.1111111111111111,
             "#46039f"
            ],
            [
             0.2222222222222222,
             "#7201a8"
            ],
            [
             0.3333333333333333,
             "#9c179e"
            ],
            [
             0.4444444444444444,
             "#bd3786"
            ],
            [
             0.5555555555555556,
             "#d8576b"
            ],
            [
             0.6666666666666666,
             "#ed7953"
            ],
            [
             0.7777777777777778,
             "#fb9f3a"
            ],
            [
             0.8888888888888888,
             "#fdca26"
            ],
            [
             1,
             "#f0f921"
            ]
           ]
          },
          "colorway": [
           "#636efa",
           "#EF553B",
           "#00cc96",
           "#ab63fa",
           "#FFA15A",
           "#19d3f3",
           "#FF6692",
           "#B6E880",
           "#FF97FF",
           "#FECB52"
          ],
          "font": {
           "color": "#2a3f5f"
          },
          "geo": {
           "bgcolor": "white",
           "lakecolor": "white",
           "landcolor": "#E5ECF6",
           "showlakes": true,
           "showland": true,
           "subunitcolor": "white"
          },
          "hoverlabel": {
           "align": "left"
          },
          "hovermode": "closest",
          "mapbox": {
           "style": "light"
          },
          "paper_bgcolor": "white",
          "plot_bgcolor": "#E5ECF6",
          "polar": {
           "angularaxis": {
            "gridcolor": "white",
            "linecolor": "white",
            "ticks": ""
           },
           "bgcolor": "#E5ECF6",
           "radialaxis": {
            "gridcolor": "white",
            "linecolor": "white",
            "ticks": ""
           }
          },
          "scene": {
           "xaxis": {
            "backgroundcolor": "#E5ECF6",
            "gridcolor": "white",
            "gridwidth": 2,
            "linecolor": "white",
            "showbackground": true,
            "ticks": "",
            "zerolinecolor": "white"
           },
           "yaxis": {
            "backgroundcolor": "#E5ECF6",
            "gridcolor": "white",
            "gridwidth": 2,
            "linecolor": "white",
            "showbackground": true,
            "ticks": "",
            "zerolinecolor": "white"
           },
           "zaxis": {
            "backgroundcolor": "#E5ECF6",
            "gridcolor": "white",
            "gridwidth": 2,
            "linecolor": "white",
            "showbackground": true,
            "ticks": "",
            "zerolinecolor": "white"
           }
          },
          "shapedefaults": {
           "line": {
            "color": "#2a3f5f"
           }
          },
          "ternary": {
           "aaxis": {
            "gridcolor": "white",
            "linecolor": "white",
            "ticks": ""
           },
           "baxis": {
            "gridcolor": "white",
            "linecolor": "white",
            "ticks": ""
           },
           "bgcolor": "#E5ECF6",
           "caxis": {
            "gridcolor": "white",
            "linecolor": "white",
            "ticks": ""
           }
          },
          "title": {
           "x": 0.05
          },
          "xaxis": {
           "automargin": true,
           "gridcolor": "white",
           "linecolor": "white",
           "ticks": "",
           "title": {
            "standoff": 15
           },
           "zerolinecolor": "white",
           "zerolinewidth": 2
          },
          "yaxis": {
           "automargin": true,
           "gridcolor": "white",
           "linecolor": "white",
           "ticks": "",
           "title": {
            "standoff": 15
           },
           "zerolinecolor": "white",
           "zerolinewidth": 2
          }
         }
        },
        "title": {
         "text": "Unique Count of Values per Column"
        },
        "xaxis": {
         "anchor": "y",
         "domain": [
          0,
          1
         ],
         "title": {
          "text": "Column"
         }
        },
        "yaxis": {
         "anchor": "x",
         "domain": [
          0,
          1
         ],
         "title": {
          "text": "Unique Count"
         }
        }
       }
      },
      "image/png": "[encoded data removed]",
      "text/html": [
       "<div>                            <div id=\"6f4ff524-ec4c-48b8-acc0-d5763a0d35db\" class=\"plotly-graph-div\" style=\"height:525px; width:100%;\"></div>            <script type=\"text/javascript\">                require([\"plotly\"], function(Plotly) {                    window.PLOTLYENV=window.PLOTLYENV || {};                                    if (document.getElementById(\"6f4ff524-ec4c-48b8-acc0-d5763a0d35db\")) {                    Plotly.newPlot(                        \"6f4ff524-ec4c-48b8-acc0-d5763a0d35db\",                        [{\"alignmentgroup\":\"True\",\"hovertemplate\":\"Column=%{x}\\u003cbr\\u003eUnique Count=%{text}\\u003cextra\\u003e\\u003c\\u002fextra\\u003e\",\"legendgroup\":\"\",\"marker\":{\"color\":\"#636efa\",\"pattern\":{\"shape\":\"\"}},\"name\":\"\",\"offsetgroup\":\"\",\"orientation\":\"v\",\"showlegend\":false,\"text\":[97.0,97.0,97.0,97.0,89.0,87.0,86.0,84.0,78.0,76.0,58.0,41.0,38.0,18.0,18.0,16.0,16.0,13.0,11.0,11.0,8.0,7.0,7.0,6.0,6.0,6.0,6.0,6.0,5.0,5.0,5.0,5.0,5.0,4.0,4.0,4.0,4.0,4.0,4.0,3.0,3.0,3.0,3.0,3.0,3.0,2.0,2.0,2.0,2.0,1.0,1.0,1.0,1.0,1.0,1.0,1.0,1.0,1.0,1.0,1.0,1.0,1.0,1.0,1.0,1.0],\"textposition\":\"outside\",\"x\":[\"ppid\",\"updated\",\"objectid\",\"imagefile\",\"title\",\"callno\",\"creator\",\"physdesc\",\"caption\",\"publisher\",\"date\",\"descrip\",\"subjects\",\"pubplace\",\"authorx\",\"latedate\",\"earlydate\",\"titlex\",\"maintdate\",\"catdate\",\"recfrom\",\"objname\",\"statusdate\",\"people\",\"recdate\",\"imageno\",\"condnotes\",\"collection\",\"spinelbl\",\"provenance\",\"language\",\"catby\",\"credit\",\"conddate\",\"locfield1\",\"condition\",\"locfield4\",\"sterms\",\"statusby\",\"status\",\"locfield2\",\"isbn\",\"classes\",\"homeloc\",\"condexam\",\"objname2\",\"recas\",\"series\",\"event\",\"udf13\",\"webinclude\",\"updatedby\",\"udf17\",\"udf16\",\"udf15\",\"udf14\",\"curvalmax\",\"copyno\",\"longdeg\",\"curvalue\",\"exhibitno\",\"insvalue\",\"latdeg\",\"loanno\",\"acqvalue\"],\"xaxis\":\"x\",\"y\":[97,97,97,97,89,87,86,84,78,76,58,41,38,18,18,16,16,13,11,11,8,7,7,6,6,6,6,6,5,5,5,5,5,4,4,4,4,4,4,3,3,3,3,3,3,2,2,2,2,1,1,1,1,1,1,1,1,1,1,1,1,1,1,1,1],\"yaxis\":\"y\",\"type\":\"bar\"}],                        {\"template\":{\"data\":{\"histogram2dcontour\":[{\"type\":\"histogram2dcontour\",\"colorbar\":{\"outlinewidth\":0,\"ticks\":\"\"},\"colorscale\":[[0.0,\"#0d0887\"],[0.1111111111111111,\"#46039f\"],[0.2222222222222222,\"#7201a8\"],[0.3333333333333333,\"#9c179e\"],[0.4444444444444444,\"#bd3786\"],[0.5555555555555556,\"#d8576b\"],[0.6666666666666666,\"#ed7953\"],[0.7777777777777778,\"#fb9f3a\"],[0.8888888888888888,\"#fdca26\"],[1.0,\"#f0f921\"]]}],\"choropleth\":[{\"type\":\"choropleth\",\"colorbar\":{\"outlinewidth\":0,\"ticks\":\"\"}}],\"histogram2d\":[{\"type\":\"histogram2d\",\"colorbar\":{\"outlinewidth\":0,\"ticks\":\"\"},\"colorscale\":[[0.0,\"#0d0887\"],[0.1111111111111111,\"#46039f\"],[0.2222222222222222,\"#7201a8\"],[0.3333333333333333,\"#9c179e\"],[0.4444444444444444,\"#bd3786\"],[0.5555555555555556,\"#d8576b\"],[0.6666666666666666,\"#ed7953\"],[0.7777777777777778,\"#fb9f3a\"],[0.8888888888888888,\"#fdca26\"],[1.0,\"#f0f921\"]]}],\"heatmap\":[{\"type\":\"heatmap\",\"colorbar\":{\"outlinewidth\":0,\"ticks\":\"\"},\"colorscale\":[[0.0,\"#0d0887\"],[0.1111111111111111,\"#46039f\"],[0.2222222222222222,\"#7201a8\"],[0.3333333333333333,\"#9c179e\"],[0.4444444444444444,\"#bd3786\"],[0.5555555555555556,\"#d8576b\"],[0.6666666666666666,\"#ed7953\"],[0.7777777777777778,\"#fb9f3a\"],[0.8888888888888888,\"#fdca26\"],[1.0,\"#f0f921\"]]}],\"heatmapgl\":[{\"type\":\"heatmapgl\",\"colorbar\":{\"outlinewidth\":0,\"ticks\":\"\"},\"colorscale\":[[0.0,\"#0d0887\"],[0.1111111111111111,\"#46039f\"],[0.2222222222222222,\"#7201a8\"],[0.3333333333333333,\"#9c179e\"],[0.4444444444444444,\"#bd3786\"],[0.5555555555555556,\"#d8576b\"],[0.6666666666666666,\"#ed7953\"],[0.7777777777777778,\"#fb9f3a\"],[0.8888888888888888,\"#fdca26\"],[1.0,\"#f0f921\"]]}],\"contourcarpet\":[{\"type\":\"contourcarpet\",\"colorbar\":{\"outlinewidth\":0,\"ticks\":\"\"}}],\"contour\":[{\"type\":\"contour\",\"colorbar\":{\"outlinewidth\":0,\"ticks\":\"\"},\"colorscale\":[[0.0,\"#0d0887\"],[0.1111111111111111,\"#46039f\"],[0.2222222222222222,\"#7201a8\"],[0.3333333333333333,\"#9c179e\"],[0.4444444444444444,\"#bd3786\"],[0.5555555555555556,\"#d8576b\"],[0.6666666666666666,\"#ed7953\"],[0.7777777777777778,\"#fb9f3a\"],[0.8888888888888888,\"#fdca26\"],[1.0,\"#f0f921\"]]}],\"surface\":[{\"type\":\"surface\",\"colorbar\":{\"outlinewidth\":0,\"ticks\":\"\"},\"colorscale\":[[0.0,\"#0d0887\"],[0.1111111111111111,\"#46039f\"],[0.2222222222222222,\"#7201a8\"],[0.3333333333333333,\"#9c179e\"],[0.4444444444444444,\"#bd3786\"],[0.5555555555555556,\"#d8576b\"],[0.6666666666666666,\"#ed7953\"],[0.7777777777777778,\"#fb9f3a\"],[0.8888888888888888,\"#fdca26\"],[1.0,\"#f0f921\"]]}],\"mesh3d\":[{\"type\":\"mesh3d\",\"colorbar\":{\"outlinewidth\":0,\"ticks\":\"\"}}],\"scatter\":[{\"fillpattern\":{\"fillmode\":\"overlay\",\"size\":10,\"solidity\":0.2},\"type\":\"scatter\"}],\"parcoords\":[{\"type\":\"parcoords\",\"line\":{\"colorbar\":{\"outlinewidth\":0,\"ticks\":\"\"}}}],\"scatterpolargl\":[{\"type\":\"scatterpolargl\",\"marker\":{\"colorbar\":{\"outlinewidth\":0,\"ticks\":\"\"}}}],\"bar\":[{\"error_x\":{\"color\":\"#2a3f5f\"},\"error_y\":{\"color\":\"#2a3f5f\"},\"marker\":{\"line\":{\"color\":\"#E5ECF6\",\"width\":0.5},\"pattern\":{\"fillmode\":\"overlay\",\"size\":10,\"solidity\":0.2}},\"type\":\"bar\"}],\"scattergeo\":[{\"type\":\"scattergeo\",\"marker\":{\"colorbar\":{\"outlinewidth\":0,\"ticks\":\"\"}}}],\"scatterpolar\":[{\"type\":\"scatterpolar\",\"marker\":{\"colorbar\":{\"outlinewidth\":0,\"ticks\":\"\"}}}],\"histogram\":[{\"marker\":{\"pattern\":{\"fillmode\":\"overlay\",\"size\":10,\"solidity\":0.2}},\"type\":\"histogram\"}],\"scattergl\":[{\"type\":\"scattergl\",\"marker\":{\"colorbar\":{\"outlinewidth\":0,\"ticks\":\"\"}}}],\"scatter3d\":[{\"type\":\"scatter3d\",\"line\":{\"colorbar\":{\"outlinewidth\":0,\"ticks\":\"\"}},\"marker\":{\"colorbar\":{\"outlinewidth\":0,\"ticks\":\"\"}}}],\"scattermapbox\":[{\"type\":\"scattermapbox\",\"marker\":{\"colorbar\":{\"outlinewidth\":0,\"ticks\":\"\"}}}],\"scatterternary\":[{\"type\":\"scatterternary\",\"marker\":{\"colorbar\":{\"outlinewidth\":0,\"ticks\":\"\"}}}],\"scattercarpet\":[{\"type\":\"scattercarpet\",\"marker\":{\"colorbar\":{\"outlinewidth\":0,\"ticks\":\"\"}}}],\"carpet\":[{\"aaxis\":{\"endlinecolor\":\"#2a3f5f\",\"gridcolor\":\"white\",\"linecolor\":\"white\",\"minorgridcolor\":\"white\",\"startlinecolor\":\"#2a3f5f\"},\"baxis\":{\"endlinecolor\":\"#2a3f5f\",\"gridcolor\":\"white\",\"linecolor\":\"white\",\"minorgridcolor\":\"white\",\"startlinecolor\":\"#2a3f5f\"},\"type\":\"carpet\"}],\"table\":[{\"cells\":{\"fill\":{\"color\":\"#EBF0F8\"},\"line\":{\"color\":\"white\"}},\"header\":{\"fill\":{\"color\":\"#C8D4E3\"},\"line\":{\"color\":\"white\"}},\"type\":\"table\"}],\"barpolar\":[{\"marker\":{\"line\":{\"color\":\"#E5ECF6\",\"width\":0.5},\"pattern\":{\"fillmode\":\"overlay\",\"size\":10,\"solidity\":0.2}},\"type\":\"barpolar\"}],\"pie\":[{\"automargin\":true,\"type\":\"pie\"}]},\"layout\":{\"autotypenumbers\":\"strict\",\"colorway\":[\"#636efa\",\"#EF553B\",\"#00cc96\",\"#ab63fa\",\"#FFA15A\",\"#19d3f3\",\"#FF6692\",\"#B6E880\",\"#FF97FF\",\"#FECB52\"],\"font\":{\"color\":\"#2a3f5f\"},\"hovermode\":\"closest\",\"hoverlabel\":{\"align\":\"left\"},\"paper_bgcolor\":\"white\",\"plot_bgcolor\":\"#E5ECF6\",\"polar\":{\"bgcolor\":\"#E5ECF6\",\"angularaxis\":{\"gridcolor\":\"white\",\"linecolor\":\"white\",\"ticks\":\"\"},\"radialaxis\":{\"gridcolor\":\"white\",\"linecolor\":\"white\",\"ticks\":\"\"}},\"ternary\":{\"bgcolor\":\"#E5ECF6\",\"aaxis\":{\"gridcolor\":\"white\",\"linecolor\":\"white\",\"ticks\":\"\"},\"baxis\":{\"gridcolor\":\"white\",\"linecolor\":\"white\",\"ticks\":\"\"},\"caxis\":{\"gridcolor\":\"white\",\"linecolor\":\"white\",\"ticks\":\"\"}},\"coloraxis\":{\"colorbar\":{\"outlinewidth\":0,\"ticks\":\"\"}},\"colorscale\":{\"sequential\":[[0.0,\"#0d0887\"],[0.1111111111111111,\"#46039f\"],[0.2222222222222222,\"#7201a8\"],[0.3333333333333333,\"#9c179e\"],[0.4444444444444444,\"#bd3786\"],[0.5555555555555556,\"#d8576b\"],[0.6666666666666666,\"#ed7953\"],[0.7777777777777778,\"#fb9f3a\"],[0.8888888888888888,\"#fdca26\"],[1.0,\"#f0f921\"]],\"sequentialminus\":[[0.0,\"#0d0887\"],[0.1111111111111111,\"#46039f\"],[0.2222222222222222,\"#7201a8\"],[0.3333333333333333,\"#9c179e\"],[0.4444444444444444,\"#bd3786\"],[0.5555555555555556,\"#d8576b\"],[0.6666666666666666,\"#ed7953\"],[0.7777777777777778,\"#fb9f3a\"],[0.8888888888888888,\"#fdca26\"],[1.0,\"#f0f921\"]],\"diverging\":[[0,\"#8e0152\"],[0.1,\"#c51b7d\"],[0.2,\"#de77ae\"],[0.3,\"#f1b6da\"],[0.4,\"#fde0ef\"],[0.5,\"#f7f7f7\"],[0.6,\"#e6f5d0\"],[0.7,\"#b8e186\"],[0.8,\"#7fbc41\"],[0.9,\"#4d9221\"],[1,\"#276419\"]]},\"xaxis\":{\"gridcolor\":\"white\",\"linecolor\":\"white\",\"ticks\":\"\",\"title\":{\"standoff\":15},\"zerolinecolor\":\"white\",\"automargin\":true,\"zerolinewidth\":2},\"yaxis\":{\"gridcolor\":\"white\",\"linecolor\":\"white\",\"ticks\":\"\",\"title\":{\"standoff\":15},\"zerolinecolor\":\"white\",\"automargin\":true,\"zerolinewidth\":2},\"scene\":{\"xaxis\":{\"backgroundcolor\":\"#E5ECF6\",\"gridcolor\":\"white\",\"linecolor\":\"white\",\"showbackground\":true,\"ticks\":\"\",\"zerolinecolor\":\"white\",\"gridwidth\":2},\"yaxis\":{\"backgroundcolor\":\"#E5ECF6\",\"gridcolor\":\"white\",\"linecolor\":\"white\",\"showbackground\":true,\"ticks\":\"\",\"zerolinecolor\":\"white\",\"gridwidth\":2},\"zaxis\":{\"backgroundcolor\":\"#E5ECF6\",\"gridcolor\":\"white\",\"linecolor\":\"white\",\"showbackground\":true,\"ticks\":\"\",\"zerolinecolor\":\"white\",\"gridwidth\":2}},\"shapedefaults\":{\"line\":{\"color\":\"#2a3f5f\"}},\"annotationdefaults\":{\"arrowcolor\":\"#2a3f5f\",\"arrowhead\":0,\"arrowwidth\":1},\"geo\":{\"bgcolor\":\"white\",\"landcolor\":\"#E5ECF6\",\"subunitcolor\":\"white\",\"showland\":true,\"showlakes\":true,\"lakecolor\":\"white\"},\"title\":{\"x\":0.05},\"mapbox\":{\"style\":\"light\"}}},\"xaxis\":{\"anchor\":\"y\",\"domain\":[0.0,1.0],\"title\":{\"text\":\"Column\"}},\"yaxis\":{\"anchor\":\"x\",\"domain\":[0.0,1.0],\"title\":{\"text\":\"Unique Count\"}},\"legend\":{\"tracegroupgap\":0},\"title\":{\"text\":\"Unique Count of Values per Column\"},\"barmode\":\"relative\"},                        {\"responsive\": true}                    ).then(function(){\n",
       "                            \n",
       "var gd = document.getElementById('6f4ff524-ec4c-48b8-acc0-d5763a0d35db');\n",
       "var x = new MutationObserver(function (mutations, observer) {{\n",
       "        var display = window.getComputedStyle(gd).display;\n",
       "        if (!display || display === 'none') {{\n",
       "            console.log([gd, 'removed!']);\n",
       "            Plotly.purge(gd);\n",
       "            observer.disconnect();\n",
       "        }}\n",
       "}});\n",
       "\n",
       "// Listen for the removal of the full notebook cells\n",
       "var notebookContainer = gd.closest('#notebook-container');\n",
       "if (notebookContainer) {{\n",
       "    x.observe(notebookContainer, {childList: true});\n",
       "}}\n",
       "\n",
       "// Listen for the clearing of the current output cell\n",
       "var outputEl = gd.closest('.output');\n",
       "if (outputEl) {{\n",
       "    x.observe(outputEl, {childList: true});\n",
       "}}\n",
       "\n",
       "                        })                };                });            </script>        </div>"
      ]
     },
     "metadata": {},
     "output_type": "display_data"
    },
    {
     "name": "stdout",
     "output_type": "stream",
     "text": [
      "Bar chart image saved: reports/MurrayLibrary_unique_count_chart.png\n",
      "PDF report generated: reports/MurrayLibrary_report.pdf\n"
     ]
    }
   ],
   "source": [
    "process_and_generate_report(csv_file_path)"
   ]
  },
  {
   "cell_type": "code",
   "execution_count": 12,
   "id": "2590ba53-32c0-4824-b274-bf32e6a7e4f9",
   "metadata": {
    "scrolled": true
   },
   "outputs": [],
   "source": [
    "# Display summary statistics for numerical columns:\n",
    "# print(df.describe())\n",
    "\n",
    "# For categorical columns:\n",
    "# print(df.describe(include='object'))"
   ]
  },
  {
   "cell_type": "code",
   "execution_count": 28,
   "id": "eb84491c-ec05-4086-b3e1-8b86d409a174",
   "metadata": {
    "scrolled": true
   },
   "outputs": [
    {
     "name": "stdout",
     "output_type": "stream",
     "text": [
      "acqvalue       0\n",
      "age         1258\n",
      "caption     1036\n",
      "catby         20\n",
      "catdate        0\n",
      "            ... \n",
      "widthft        0\n",
      "widthin        0\n",
      "xcord          0\n",
      "ycord          0\n",
      "zcord          0\n",
      "Length: 143, dtype: int64\n"
     ]
    }
   ],
   "source": [
    "# print(df.info()) \n",
    "\n",
    "# Count of missing values per column:\n",
    "print(df.isnull().sum())"
   ]
  },
  {
   "cell_type": "code",
   "execution_count": 24,
   "id": "d3d7ac20-5b81-4942-b30c-c1c571e9d204",
   "metadata": {},
   "outputs": [
    {
     "name": "stdout",
     "output_type": "stream",
     "text": [
      "maintdate\n",
      "2017-09-28    398\n",
      "2017-12-08     74\n",
      "2018-01-12     18\n",
      "2017-12-07      9\n",
      "2015-09-15      5\n",
      "2018-10-10      4\n",
      "2017-12-06      4\n",
      "2018-10-09      3\n",
      "2017-10-05      3\n",
      "2015-09-12      3\n",
      "2014-10-29      2\n",
      "2014-09-15      1\n",
      "2016-08-12      1\n",
      "2016-07-29      1\n",
      "2016-07-13      1\n",
      "2018-01-10      1\n",
      "2016-06-16      1\n",
      "2018-09-15      1\n",
      "Name: count, dtype: int64\n"
     ]
    }
   ],
   "source": [
    "# Display unique values for each column:\n",
    "# print(df.nunique())\n",
    "\n",
    "# Unique values for a specific column:\n",
    "print(df['maintdate'].value_counts())"
   ]
  },
  {
   "cell_type": "code",
   "execution_count": 25,
   "id": "fa95bb63",
   "metadata": {},
   "outputs": [
    {
     "name": "stdout",
     "output_type": "stream",
     "text": [
      "<class 'pandas.core.frame.DataFrame'>\n",
      "Index: 531 entries, nan to nan\n",
      "Data columns (total 82 columns):\n",
      " #   Column      Non-Null Count  Dtype  \n",
      "---  ------      --------------  -----  \n",
      " 0   accessno    531 non-null    object \n",
      " 1   accruals    3 non-null      object \n",
      " 2   acqvalue    531 non-null    float64\n",
      " 3   admin       5 non-null      object \n",
      " 4   authorx     3 non-null      object \n",
      " 5   caption     223 non-null    object \n",
      " 6   catby       451 non-null    object \n",
      " 7   catdate     530 non-null    object \n",
      " 8   cattype     523 non-null    object \n",
      " 9   classes     7 non-null      object \n",
      " 10  collection  11 non-null     object \n",
      " 11  conddate    17 non-null     object \n",
      " 12  condexam    17 non-null     object \n",
      " 13  condition   340 non-null    object \n",
      " 14  condnotes   206 non-null    object \n",
      " 15  containtxt  2 non-null      object \n",
      " 16  creator     8 non-null      object \n",
      " 17  credit      30 non-null     object \n",
      " 18  curvalmax   531 non-null    float64\n",
      " 19  curvalue    531 non-null    float64\n",
      " 20  date        475 non-null    object \n",
      " 21  dateaccum   9 non-null      object \n",
      " 22  datecreate  10 non-null     object \n",
      " 23  descrip     525 non-null    object \n",
      " 24  earlydate   531 non-null    int64  \n",
      " 25  elongitude  1 non-null      float64\n",
      " 26  event       2 non-null      object \n",
      " 27  exhibitno   531 non-null    int64  \n",
      " 28  exhlabel1   1 non-null      object \n",
      " 29  exhlabel3   1 non-null      object \n",
      " 30  exhstart    1 non-null      object \n",
      " 31  extent      8 non-null      object \n",
      " 32  gparent     3 non-null      object \n",
      " 33  homeloc     526 non-null    object \n",
      " 34  imagefile   446 non-null    object \n",
      " 35  imageno     531 non-null    int64  \n",
      " 36  insvalue    531 non-null    float64\n",
      " 37  language    1 non-null      object \n",
      " 38  latdeg      531 non-null    float64\n",
      " 39  latedate    531 non-null    int64  \n",
      " 40  legal       1 non-null      object \n",
      " 41  loanno      531 non-null    int64  \n",
      " 42  locfield1   517 non-null    object \n",
      " 43  locfield2   400 non-null    object \n",
      " 44  locfield3   410 non-null    object \n",
      " 45  locfield4   3 non-null      object \n",
      " 46  locfield5   467 non-null    object \n",
      " 47  locfield6   108 non-null    object \n",
      " 48  longdeg     531 non-null    float64\n",
      " 49  maintdate   530 non-null    object \n",
      " 50  maintnote   1 non-null      object \n",
      " 51  narrator    2 non-null      object \n",
      " 52  narratorid  531 non-null    int64  \n",
      " 53  nlatitude   1 non-null      float64\n",
      " 54  notes       5 non-null      object \n",
      " 55  objectid    531 non-null    object \n",
      " 56  objname     530 non-null    object \n",
      " 57  objname2    406 non-null    object \n",
      " 58  parent      3 non-null      object \n",
      " 59  people      14 non-null     object \n",
      " 60  recas       526 non-null    object \n",
      " 61  recdate     46 non-null     object \n",
      " 62  recfrom     527 non-null    object \n",
      " 63  refcode     1 non-null      object \n",
      " 64  slatitude   1 non-null      float64\n",
      " 65  status      521 non-null    object \n",
      " 66  statusby    522 non-null    object \n",
      " 67  statusdate  522 non-null    object \n",
      " 68  sterms      10 non-null     object \n",
      " 69  subjects    12 non-null     object \n",
      " 70  system      4 non-null      object \n",
      " 71  title       10 non-null     object \n",
      " 72  udf13       531 non-null    int64  \n",
      " 73  udf14       531 non-null    float64\n",
      " 74  udf15       531 non-null    float64\n",
      " 75  udf16       531 non-null    float64\n",
      " 76  udf17       531 non-null    float64\n",
      " 77  udf21       3 non-null      object \n",
      " 78  updated     531 non-null    object \n",
      " 79  updatedby   531 non-null    object \n",
      " 80  webinclude  531 non-null    bool   \n",
      " 81  ppid        531 non-null    object \n",
      "dtypes: bool(1), float64(13), int64(7), object(61)\n",
      "memory usage: 340.7+ KB\n",
      "None\n"
     ]
    }
   ],
   "source": [
    "print(df.info())"
   ]
  },
  {
   "cell_type": "code",
   "execution_count": 30,
   "id": "b1822c82-36ea-4e6c-b0df-baf5f0e95d8f",
   "metadata": {},
   "outputs": [],
   "source": [
    "# Dictionary to store unique values for each column\n",
    "unique_values = {col: df[col].unique() for col in df.columns}\n",
    "\n",
    "# Create a DataFrame to summarize unique values\n",
    "summary_df = pd.DataFrame({\n",
    "    'Column': unique_values.keys(),\n",
    "    'Unique Values': [', '.join(map(str, values[:100])) + ('...' if len(values) > 100 else '') for values in unique_values.values()],\n",
    "    'Unique Count': [len(values) for values in unique_values.values()]\n",
    "})"
   ]
  },
  {
   "cell_type": "code",
   "execution_count": 35,
   "id": "a15719b6-740d-48f4-86b1-05a2ccff79e7",
   "metadata": {},
   "outputs": [],
   "source": [
    "# Use tabulate to format the table\n",
    "# formatted_table = tabulate(summary_df, headers='keys', tablefmt='grid')\n",
    "# print(formatted_table)"
   ]
  },
  {
   "cell_type": "code",
   "execution_count": 32,
   "id": "bc8861d2-0056-49ea-9e24-39cd2fbd6e4c",
   "metadata": {},
   "outputs": [
    {
     "data": {
      "application/vnd.plotly.v1+json": {
       "config": {
        "plotlyServerURL": "https://plot.ly"
       },
       "data": [
        {
         "alignmentgroup": "True",
         "hovertemplate": "Column=%{x}<br>Unique Count=%{text}<extra></extra>",
         "legendgroup": "",
         "marker": {
          "color": "#636efa",
          "pattern": {
           "shape": ""
          }
         },
         "name": "",
         "offsetgroup": "",
         "orientation": "v",
         "showlegend": false,
         "text": [
          1,
          4,
          154,
          19,
          152,
          4,
          5,
          1,
          1,
          1,
          22,
          11,
          43,
          2,
          2,
          2,
          6,
          1,
          1,
          3,
          2,
          2,
          2,
          1210,
          6,
          1,
          2,
          135,
          2,
          2,
          1,
          17,
          5,
          1,
          2,
          216,
          3,
          248,
          1,
          267,
          1,
          131,
          3,
          6,
          349,
          3,
          6,
          331,
          4,
          137,
          7,
          22,
          26,
          24,
          3,
          894,
          7,
          1,
          1,
          2,
          2,
          4,
          1,
          1,
          234,
          56,
          71,
          1,
          1,
          11,
          10,
          3,
          16,
          6,
          1,
          4,
          152,
          3,
          77,
          161,
          1271,
          740,
          24,
          264,
          75,
          7,
          1,
          5,
          16,
          30,
          3,
          2,
          4,
          2,
          10,
          5,
          156,
          1,
          1,
          4,
          4,
          4,
          488,
          36,
          5,
          658,
          3,
          22,
          4,
          3,
          8,
          6,
          8,
          2,
          1,
          3,
          5,
          3,
          2,
          23,
          2,
          1,
          1,
          1,
          1,
          1,
          1,
          1,
          1,
          1254,
          2,
          1,
          3,
          1,
          1,
          1,
          1,
          201,
          37,
          48,
          1,
          1,
          1
         ],
         "textposition": "outside",
         "type": "bar",
         "x": [
          "acqvalue",
          "age",
          "caption",
          "catby",
          "catdate",
          "cattype",
          "chemcomp",
          "circum",
          "circumft",
          "circumin",
          "colldate",
          "collection",
          "collector",
          "conddate",
          "condexam",
          "condition",
          "crystal",
          "curvalmax",
          "curvalue",
          "date",
          "depth",
          "depthft",
          "depthin",
          "descrip",
          "diameter",
          "diameterft",
          "diameterin",
          "dimnotes",
          "dimtype",
          "dispvalue",
          "earlydate",
          "epoch",
          "era",
          "excavadate",
          "exhibitno",
          "exhlabel1",
          "exhlabel2",
          "exhlabel3",
          "exhstart",
          "family",
          "flagdate",
          "formation",
          "fossils",
          "fracture",
          "genus",
          "gparent",
          "grainsize",
          "habitat",
          "hardness",
          "height",
          "heightft",
          "heightin",
          "homeloc",
          "idby",
          "iddate",
          "imagefile",
          "imageno",
          "insdate",
          "insvalue",
          "invnby",
          "invndate",
          "kingdom",
          "latdeg",
          "latedate",
          "length",
          "lengthft",
          "lengthin",
          "loandue",
          "loanno",
          "locfield1",
          "locfield3",
          "locfield4",
          "locfield5",
          "locfield6",
          "longdeg",
          "luster",
          "maintdate",
          "member",
          "nhclass",
          "nhorder",
          "objectid",
          "objname",
          "occurrence",
          "oldno",
          "othername",
          "otherno",
          "outdate",
          "parent",
          "period",
          "phylum",
          "preparator",
          "prepdate",
          "preserve",
          "pressure",
          "recas",
          "recdate",
          "recfrom",
          "repatdate",
          "repatnotic",
          "rockcolor",
          "rockorigin",
          "rocktype",
          "site",
          "siteno",
          "specgrav",
          "species",
          "sprocess",
          "stage",
          "status",
          "statusby",
          "statusdate",
          "streak",
          "subfamily",
          "subspecies",
          "tempdate",
          "temperatur",
          "texture",
          "tlocfield1",
          "tlocfield4",
          "tlocfield5",
          "tlocfield6",
          "udf13",
          "udf14",
          "udf15",
          "udf16",
          "udf17",
          "udf18",
          "udf19",
          "udf20",
          "updated",
          "updatedby",
          "valuedate",
          "varieties",
          "webinclude",
          "weight",
          "weightin",
          "weightlb",
          "width",
          "widthft",
          "widthin",
          "xcord",
          "ycord",
          "zcord"
         ],
         "xaxis": "x",
         "y": [
          1,
          4,
          154,
          19,
          152,
          4,
          5,
          1,
          1,
          1,
          22,
          11,
          43,
          2,
          2,
          2,
          6,
          1,
          1,
          3,
          2,
          2,
          2,
          1210,
          6,
          1,
          2,
          135,
          2,
          2,
          1,
          17,
          5,
          1,
          2,
          216,
          3,
          248,
          1,
          267,
          1,
          131,
          3,
          6,
          349,
          3,
          6,
          331,
          4,
          137,
          7,
          22,
          26,
          24,
          3,
          894,
          7,
          1,
          1,
          2,
          2,
          4,
          1,
          1,
          234,
          56,
          71,
          1,
          1,
          11,
          10,
          3,
          16,
          6,
          1,
          4,
          152,
          3,
          77,
          161,
          1271,
          740,
          24,
          264,
          75,
          7,
          1,
          5,
          16,
          30,
          3,
          2,
          4,
          2,
          10,
          5,
          156,
          1,
          1,
          4,
          4,
          4,
          488,
          36,
          5,
          658,
          3,
          22,
          4,
          3,
          8,
          6,
          8,
          2,
          1,
          3,
          5,
          3,
          2,
          23,
          2,
          1,
          1,
          1,
          1,
          1,
          1,
          1,
          1,
          1254,
          2,
          1,
          3,
          1,
          1,
          1,
          1,
          201,
          37,
          48,
          1,
          1,
          1
         ],
         "yaxis": "y"
        }
       ],
       "layout": {
        "autosize": true,
        "barmode": "relative",
        "legend": {
         "tracegroupgap": 0
        },
        "template": {
         "data": {
          "bar": [
           {
            "error_x": {
             "color": "#2a3f5f"
            },
            "error_y": {
             "color": "#2a3f5f"
            },
            "marker": {
             "line": {
              "color": "#E5ECF6",
              "width": 0.5
             },
             "pattern": {
              "fillmode": "overlay",
              "size": 10,
              "solidity": 0.2
             }
            },
            "type": "bar"
           }
          ],
          "barpolar": [
           {
            "marker": {
             "line": {
              "color": "#E5ECF6",
              "width": 0.5
             },
             "pattern": {
              "fillmode": "overlay",
              "size": 10,
              "solidity": 0.2
             }
            },
            "type": "barpolar"
           }
          ],
          "carpet": [
           {
            "aaxis": {
             "endlinecolor": "#2a3f5f",
             "gridcolor": "white",
             "linecolor": "white",
             "minorgridcolor": "white",
             "startlinecolor": "#2a3f5f"
            },
            "baxis": {
             "endlinecolor": "#2a3f5f",
             "gridcolor": "white",
             "linecolor": "white",
             "minorgridcolor": "white",
             "startlinecolor": "#2a3f5f"
            },
            "type": "carpet"
           }
          ],
          "choropleth": [
           {
            "colorbar": {
             "outlinewidth": 0,
             "ticks": ""
            },
            "type": "choropleth"
           }
          ],
          "contour": [
           {
            "colorbar": {
             "outlinewidth": 0,
             "ticks": ""
            },
            "colorscale": [
             [
              0,
              "#0d0887"
             ],
             [
              0.1111111111111111,
              "#46039f"
             ],
             [
              0.2222222222222222,
              "#7201a8"
             ],
             [
              0.3333333333333333,
              "#9c179e"
             ],
             [
              0.4444444444444444,
              "#bd3786"
             ],
             [
              0.5555555555555556,
              "#d8576b"
             ],
             [
              0.6666666666666666,
              "#ed7953"
             ],
             [
              0.7777777777777778,
              "#fb9f3a"
             ],
             [
              0.8888888888888888,
              "#fdca26"
             ],
             [
              1,
              "#f0f921"
             ]
            ],
            "type": "contour"
           }
          ],
          "contourcarpet": [
           {
            "colorbar": {
             "outlinewidth": 0,
             "ticks": ""
            },
            "type": "contourcarpet"
           }
          ],
          "heatmap": [
           {
            "colorbar": {
             "outlinewidth": 0,
             "ticks": ""
            },
            "colorscale": [
             [
              0,
              "#0d0887"
             ],
             [
              0.1111111111111111,
              "#46039f"
             ],
             [
              0.2222222222222222,
              "#7201a8"
             ],
             [
              0.3333333333333333,
              "#9c179e"
             ],
             [
              0.4444444444444444,
              "#bd3786"
             ],
             [
              0.5555555555555556,
              "#d8576b"
             ],
             [
              0.6666666666666666,
              "#ed7953"
             ],
             [
              0.7777777777777778,
              "#fb9f3a"
             ],
             [
              0.8888888888888888,
              "#fdca26"
             ],
             [
              1,
              "#f0f921"
             ]
            ],
            "type": "heatmap"
           }
          ],
          "heatmapgl": [
           {
            "colorbar": {
             "outlinewidth": 0,
             "ticks": ""
            },
            "colorscale": [
             [
              0,
              "#0d0887"
             ],
             [
              0.1111111111111111,
              "#46039f"
             ],
             [
              0.2222222222222222,
              "#7201a8"
             ],
             [
              0.3333333333333333,
              "#9c179e"
             ],
             [
              0.4444444444444444,
              "#bd3786"
             ],
             [
              0.5555555555555556,
              "#d8576b"
             ],
             [
              0.6666666666666666,
              "#ed7953"
             ],
             [
              0.7777777777777778,
              "#fb9f3a"
             ],
             [
              0.8888888888888888,
              "#fdca26"
             ],
             [
              1,
              "#f0f921"
             ]
            ],
            "type": "heatmapgl"
           }
          ],
          "histogram": [
           {
            "marker": {
             "pattern": {
              "fillmode": "overlay",
              "size": 10,
              "solidity": 0.2
             }
            },
            "type": "histogram"
           }
          ],
          "histogram2d": [
           {
            "colorbar": {
             "outlinewidth": 0,
             "ticks": ""
            },
            "colorscale": [
             [
              0,
              "#0d0887"
             ],
             [
              0.1111111111111111,
              "#46039f"
             ],
             [
              0.2222222222222222,
              "#7201a8"
             ],
             [
              0.3333333333333333,
              "#9c179e"
             ],
             [
              0.4444444444444444,
              "#bd3786"
             ],
             [
              0.5555555555555556,
              "#d8576b"
             ],
             [
              0.6666666666666666,
              "#ed7953"
             ],
             [
              0.7777777777777778,
              "#fb9f3a"
             ],
             [
              0.8888888888888888,
              "#fdca26"
             ],
             [
              1,
              "#f0f921"
             ]
            ],
            "type": "histogram2d"
           }
          ],
          "histogram2dcontour": [
           {
            "colorbar": {
             "outlinewidth": 0,
             "ticks": ""
            },
            "colorscale": [
             [
              0,
              "#0d0887"
             ],
             [
              0.1111111111111111,
              "#46039f"
             ],
             [
              0.2222222222222222,
              "#7201a8"
             ],
             [
              0.3333333333333333,
              "#9c179e"
             ],
             [
              0.4444444444444444,
              "#bd3786"
             ],
             [
              0.5555555555555556,
              "#d8576b"
             ],
             [
              0.6666666666666666,
              "#ed7953"
             ],
             [
              0.7777777777777778,
              "#fb9f3a"
             ],
             [
              0.8888888888888888,
              "#fdca26"
             ],
             [
              1,
              "#f0f921"
             ]
            ],
            "type": "histogram2dcontour"
           }
          ],
          "mesh3d": [
           {
            "colorbar": {
             "outlinewidth": 0,
             "ticks": ""
            },
            "type": "mesh3d"
           }
          ],
          "parcoords": [
           {
            "line": {
             "colorbar": {
              "outlinewidth": 0,
              "ticks": ""
             }
            },
            "type": "parcoords"
           }
          ],
          "pie": [
           {
            "automargin": true,
            "type": "pie"
           }
          ],
          "scatter": [
           {
            "fillpattern": {
             "fillmode": "overlay",
             "size": 10,
             "solidity": 0.2
            },
            "type": "scatter"
           }
          ],
          "scatter3d": [
           {
            "line": {
             "colorbar": {
              "outlinewidth": 0,
              "ticks": ""
             }
            },
            "marker": {
             "colorbar": {
              "outlinewidth": 0,
              "ticks": ""
             }
            },
            "type": "scatter3d"
           }
          ],
          "scattercarpet": [
           {
            "marker": {
             "colorbar": {
              "outlinewidth": 0,
              "ticks": ""
             }
            },
            "type": "scattercarpet"
           }
          ],
          "scattergeo": [
           {
            "marker": {
             "colorbar": {
              "outlinewidth": 0,
              "ticks": ""
             }
            },
            "type": "scattergeo"
           }
          ],
          "scattergl": [
           {
            "marker": {
             "colorbar": {
              "outlinewidth": 0,
              "ticks": ""
             }
            },
            "type": "scattergl"
           }
          ],
          "scattermapbox": [
           {
            "marker": {
             "colorbar": {
              "outlinewidth": 0,
              "ticks": ""
             }
            },
            "type": "scattermapbox"
           }
          ],
          "scatterpolar": [
           {
            "marker": {
             "colorbar": {
              "outlinewidth": 0,
              "ticks": ""
             }
            },
            "type": "scatterpolar"
           }
          ],
          "scatterpolargl": [
           {
            "marker": {
             "colorbar": {
              "outlinewidth": 0,
              "ticks": ""
             }
            },
            "type": "scatterpolargl"
           }
          ],
          "scatterternary": [
           {
            "marker": {
             "colorbar": {
              "outlinewidth": 0,
              "ticks": ""
             }
            },
            "type": "scatterternary"
           }
          ],
          "surface": [
           {
            "colorbar": {
             "outlinewidth": 0,
             "ticks": ""
            },
            "colorscale": [
             [
              0,
              "#0d0887"
             ],
             [
              0.1111111111111111,
              "#46039f"
             ],
             [
              0.2222222222222222,
              "#7201a8"
             ],
             [
              0.3333333333333333,
              "#9c179e"
             ],
             [
              0.4444444444444444,
              "#bd3786"
             ],
             [
              0.5555555555555556,
              "#d8576b"
             ],
             [
              0.6666666666666666,
              "#ed7953"
             ],
             [
              0.7777777777777778,
              "#fb9f3a"
             ],
             [
              0.8888888888888888,
              "#fdca26"
             ],
             [
              1,
              "#f0f921"
             ]
            ],
            "type": "surface"
           }
          ],
          "table": [
           {
            "cells": {
             "fill": {
              "color": "#EBF0F8"
             },
             "line": {
              "color": "white"
             }
            },
            "header": {
             "fill": {
              "color": "#C8D4E3"
             },
             "line": {
              "color": "white"
             }
            },
            "type": "table"
           }
          ]
         },
         "layout": {
          "annotationdefaults": {
           "arrowcolor": "#2a3f5f",
           "arrowhead": 0,
           "arrowwidth": 1
          },
          "autotypenumbers": "strict",
          "coloraxis": {
           "colorbar": {
            "outlinewidth": 0,
            "ticks": ""
           }
          },
          "colorscale": {
           "diverging": [
            [
             0,
             "#8e0152"
            ],
            [
             0.1,
             "#c51b7d"
            ],
            [
             0.2,
             "#de77ae"
            ],
            [
             0.3,
             "#f1b6da"
            ],
            [
             0.4,
             "#fde0ef"
            ],
            [
             0.5,
             "#f7f7f7"
            ],
            [
             0.6,
             "#e6f5d0"
            ],
            [
             0.7,
             "#b8e186"
            ],
            [
             0.8,
             "#7fbc41"
            ],
            [
             0.9,
             "#4d9221"
            ],
            [
             1,
             "#276419"
            ]
           ],
           "sequential": [
            [
             0,
             "#0d0887"
            ],
            [
             0.1111111111111111,
             "#46039f"
            ],
            [
             0.2222222222222222,
             "#7201a8"
            ],
            [
             0.3333333333333333,
             "#9c179e"
            ],
            [
             0.4444444444444444,
             "#bd3786"
            ],
            [
             0.5555555555555556,
             "#d8576b"
            ],
            [
             0.6666666666666666,
             "#ed7953"
            ],
            [
             0.7777777777777778,
             "#fb9f3a"
            ],
            [
             0.8888888888888888,
             "#fdca26"
            ],
            [
             1,
             "#f0f921"
            ]
           ],
           "sequentialminus": [
            [
             0,
             "#0d0887"
            ],
            [
             0.1111111111111111,
             "#46039f"
            ],
            [
             0.2222222222222222,
             "#7201a8"
            ],
            [
             0.3333333333333333,
             "#9c179e"
            ],
            [
             0.4444444444444444,
             "#bd3786"
            ],
            [
             0.5555555555555556,
             "#d8576b"
            ],
            [
             0.6666666666666666,
             "#ed7953"
            ],
            [
             0.7777777777777778,
             "#fb9f3a"
            ],
            [
             0.8888888888888888,
             "#fdca26"
            ],
            [
             1,
             "#f0f921"
            ]
           ]
          },
          "colorway": [
           "#636efa",
           "#EF553B",
           "#00cc96",
           "#ab63fa",
           "#FFA15A",
           "#19d3f3",
           "#FF6692",
           "#B6E880",
           "#FF97FF",
           "#FECB52"
          ],
          "font": {
           "color": "#2a3f5f"
          },
          "geo": {
           "bgcolor": "white",
           "lakecolor": "white",
           "landcolor": "#E5ECF6",
           "showlakes": true,
           "showland": true,
           "subunitcolor": "white"
          },
          "hoverlabel": {
           "align": "left"
          },
          "hovermode": "closest",
          "mapbox": {
           "style": "light"
          },
          "paper_bgcolor": "white",
          "plot_bgcolor": "#E5ECF6",
          "polar": {
           "angularaxis": {
            "gridcolor": "white",
            "linecolor": "white",
            "ticks": ""
           },
           "bgcolor": "#E5ECF6",
           "radialaxis": {
            "gridcolor": "white",
            "linecolor": "white",
            "ticks": ""
           }
          },
          "scene": {
           "xaxis": {
            "backgroundcolor": "#E5ECF6",
            "gridcolor": "white",
            "gridwidth": 2,
            "linecolor": "white",
            "showbackground": true,
            "ticks": "",
            "zerolinecolor": "white"
           },
           "yaxis": {
            "backgroundcolor": "#E5ECF6",
            "gridcolor": "white",
            "gridwidth": 2,
            "linecolor": "white",
            "showbackground": true,
            "ticks": "",
            "zerolinecolor": "white"
           },
           "zaxis": {
            "backgroundcolor": "#E5ECF6",
            "gridcolor": "white",
            "gridwidth": 2,
            "linecolor": "white",
            "showbackground": true,
            "ticks": "",
            "zerolinecolor": "white"
           }
          },
          "shapedefaults": {
           "line": {
            "color": "#2a3f5f"
           }
          },
          "ternary": {
           "aaxis": {
            "gridcolor": "white",
            "linecolor": "white",
            "ticks": ""
           },
           "baxis": {
            "gridcolor": "white",
            "linecolor": "white",
            "ticks": ""
           },
           "bgcolor": "#E5ECF6",
           "caxis": {
            "gridcolor": "white",
            "linecolor": "white",
            "ticks": ""
           }
          },
          "title": {
           "x": 0.05
          },
          "xaxis": {
           "automargin": true,
           "gridcolor": "white",
           "linecolor": "white",
           "ticks": "",
           "title": {
            "standoff": 15
           },
           "zerolinecolor": "white",
           "zerolinewidth": 2
          },
          "yaxis": {
           "automargin": true,
           "gridcolor": "white",
           "linecolor": "white",
           "ticks": "",
           "title": {
            "standoff": 15
           },
           "zerolinecolor": "white",
           "zerolinewidth": 2
          }
         }
        },
        "title": {
         "text": "Unique Count of Values per Column"
        },
        "xaxis": {
         "anchor": "y",
         "autorange": true,
         "domain": [
          0,
          1
         ],
         "range": [
          -0.5,
          142.5
         ],
         "title": {
          "text": "Column"
         },
         "type": "category"
        },
        "yaxis": {
         "anchor": "x",
         "autorange": true,
         "domain": [
          0,
          1
         ],
         "range": [
          0,
          1337.8947368421052
         ],
         "title": {
          "text": "Unique Count"
         },
         "type": "linear"
        }
       }
      },
      "image/png": "[encoded data removed]",
      "text/html": [
       "<div>                            <div id=\"394c1fb5-099c-4218-a6d9-dac0714d9cd4\" class=\"plotly-graph-div\" style=\"height:525px; width:100%;\"></div>            <script type=\"text/javascript\">                require([\"plotly\"], function(Plotly) {                    window.PLOTLYENV=window.PLOTLYENV || {};                                    if (document.getElementById(\"394c1fb5-099c-4218-a6d9-dac0714d9cd4\")) {                    Plotly.newPlot(                        \"394c1fb5-099c-4218-a6d9-dac0714d9cd4\",                        [{\"alignmentgroup\":\"True\",\"hovertemplate\":\"Column=%{x}\\u003cbr\\u003eUnique Count=%{text}\\u003cextra\\u003e\\u003c\\u002fextra\\u003e\",\"legendgroup\":\"\",\"marker\":{\"color\":\"#636efa\",\"pattern\":{\"shape\":\"\"}},\"name\":\"\",\"offsetgroup\":\"\",\"orientation\":\"v\",\"showlegend\":false,\"text\":[1.0,4.0,154.0,19.0,152.0,4.0,5.0,1.0,1.0,1.0,22.0,11.0,43.0,2.0,2.0,2.0,6.0,1.0,1.0,3.0,2.0,2.0,2.0,1210.0,6.0,1.0,2.0,135.0,2.0,2.0,1.0,17.0,5.0,1.0,2.0,216.0,3.0,248.0,1.0,267.0,1.0,131.0,3.0,6.0,349.0,3.0,6.0,331.0,4.0,137.0,7.0,22.0,26.0,24.0,3.0,894.0,7.0,1.0,1.0,2.0,2.0,4.0,1.0,1.0,234.0,56.0,71.0,1.0,1.0,11.0,10.0,3.0,16.0,6.0,1.0,4.0,152.0,3.0,77.0,161.0,1271.0,740.0,24.0,264.0,75.0,7.0,1.0,5.0,16.0,30.0,3.0,2.0,4.0,2.0,10.0,5.0,156.0,1.0,1.0,4.0,4.0,4.0,488.0,36.0,5.0,658.0,3.0,22.0,4.0,3.0,8.0,6.0,8.0,2.0,1.0,3.0,5.0,3.0,2.0,23.0,2.0,1.0,1.0,1.0,1.0,1.0,1.0,1.0,1.0,1254.0,2.0,1.0,3.0,1.0,1.0,1.0,1.0,201.0,37.0,48.0,1.0,1.0,1.0],\"textposition\":\"outside\",\"x\":[\"acqvalue\",\"age\",\"caption\",\"catby\",\"catdate\",\"cattype\",\"chemcomp\",\"circum\",\"circumft\",\"circumin\",\"colldate\",\"collection\",\"collector\",\"conddate\",\"condexam\",\"condition\",\"crystal\",\"curvalmax\",\"curvalue\",\"date\",\"depth\",\"depthft\",\"depthin\",\"descrip\",\"diameter\",\"diameterft\",\"diameterin\",\"dimnotes\",\"dimtype\",\"dispvalue\",\"earlydate\",\"epoch\",\"era\",\"excavadate\",\"exhibitno\",\"exhlabel1\",\"exhlabel2\",\"exhlabel3\",\"exhstart\",\"family\",\"flagdate\",\"formation\",\"fossils\",\"fracture\",\"genus\",\"gparent\",\"grainsize\",\"habitat\",\"hardness\",\"height\",\"heightft\",\"heightin\",\"homeloc\",\"idby\",\"iddate\",\"imagefile\",\"imageno\",\"insdate\",\"insvalue\",\"invnby\",\"invndate\",\"kingdom\",\"latdeg\",\"latedate\",\"length\",\"lengthft\",\"lengthin\",\"loandue\",\"loanno\",\"locfield1\",\"locfield3\",\"locfield4\",\"locfield5\",\"locfield6\",\"longdeg\",\"luster\",\"maintdate\",\"member\",\"nhclass\",\"nhorder\",\"objectid\",\"objname\",\"occurrence\",\"oldno\",\"othername\",\"otherno\",\"outdate\",\"parent\",\"period\",\"phylum\",\"preparator\",\"prepdate\",\"preserve\",\"pressure\",\"recas\",\"recdate\",\"recfrom\",\"repatdate\",\"repatnotic\",\"rockcolor\",\"rockorigin\",\"rocktype\",\"site\",\"siteno\",\"specgrav\",\"species\",\"sprocess\",\"stage\",\"status\",\"statusby\",\"statusdate\",\"streak\",\"subfamily\",\"subspecies\",\"tempdate\",\"temperatur\",\"texture\",\"tlocfield1\",\"tlocfield4\",\"tlocfield5\",\"tlocfield6\",\"udf13\",\"udf14\",\"udf15\",\"udf16\",\"udf17\",\"udf18\",\"udf19\",\"udf20\",\"updated\",\"updatedby\",\"valuedate\",\"varieties\",\"webinclude\",\"weight\",\"weightin\",\"weightlb\",\"width\",\"widthft\",\"widthin\",\"xcord\",\"ycord\",\"zcord\"],\"xaxis\":\"x\",\"y\":[1,4,154,19,152,4,5,1,1,1,22,11,43,2,2,2,6,1,1,3,2,2,2,1210,6,1,2,135,2,2,1,17,5,1,2,216,3,248,1,267,1,131,3,6,349,3,6,331,4,137,7,22,26,24,3,894,7,1,1,2,2,4,1,1,234,56,71,1,1,11,10,3,16,6,1,4,152,3,77,161,1271,740,24,264,75,7,1,5,16,30,3,2,4,2,10,5,156,1,1,4,4,4,488,36,5,658,3,22,4,3,8,6,8,2,1,3,5,3,2,23,2,1,1,1,1,1,1,1,1,1254,2,1,3,1,1,1,1,201,37,48,1,1,1],\"yaxis\":\"y\",\"type\":\"bar\"}],                        {\"template\":{\"data\":{\"histogram2dcontour\":[{\"type\":\"histogram2dcontour\",\"colorbar\":{\"outlinewidth\":0,\"ticks\":\"\"},\"colorscale\":[[0.0,\"#0d0887\"],[0.1111111111111111,\"#46039f\"],[0.2222222222222222,\"#7201a8\"],[0.3333333333333333,\"#9c179e\"],[0.4444444444444444,\"#bd3786\"],[0.5555555555555556,\"#d8576b\"],[0.6666666666666666,\"#ed7953\"],[0.7777777777777778,\"#fb9f3a\"],[0.8888888888888888,\"#fdca26\"],[1.0,\"#f0f921\"]]}],\"choropleth\":[{\"type\":\"choropleth\",\"colorbar\":{\"outlinewidth\":0,\"ticks\":\"\"}}],\"histogram2d\":[{\"type\":\"histogram2d\",\"colorbar\":{\"outlinewidth\":0,\"ticks\":\"\"},\"colorscale\":[[0.0,\"#0d0887\"],[0.1111111111111111,\"#46039f\"],[0.2222222222222222,\"#7201a8\"],[0.3333333333333333,\"#9c179e\"],[0.4444444444444444,\"#bd3786\"],[0.5555555555555556,\"#d8576b\"],[0.6666666666666666,\"#ed7953\"],[0.7777777777777778,\"#fb9f3a\"],[0.8888888888888888,\"#fdca26\"],[1.0,\"#f0f921\"]]}],\"heatmap\":[{\"type\":\"heatmap\",\"colorbar\":{\"outlinewidth\":0,\"ticks\":\"\"},\"colorscale\":[[0.0,\"#0d0887\"],[0.1111111111111111,\"#46039f\"],[0.2222222222222222,\"#7201a8\"],[0.3333333333333333,\"#9c179e\"],[0.4444444444444444,\"#bd3786\"],[0.5555555555555556,\"#d8576b\"],[0.6666666666666666,\"#ed7953\"],[0.7777777777777778,\"#fb9f3a\"],[0.8888888888888888,\"#fdca26\"],[1.0,\"#f0f921\"]]}],\"heatmapgl\":[{\"type\":\"heatmapgl\",\"colorbar\":{\"outlinewidth\":0,\"ticks\":\"\"},\"colorscale\":[[0.0,\"#0d0887\"],[0.1111111111111111,\"#46039f\"],[0.2222222222222222,\"#7201a8\"],[0.3333333333333333,\"#9c179e\"],[0.4444444444444444,\"#bd3786\"],[0.5555555555555556,\"#d8576b\"],[0.6666666666666666,\"#ed7953\"],[0.7777777777777778,\"#fb9f3a\"],[0.8888888888888888,\"#fdca26\"],[1.0,\"#f0f921\"]]}],\"contourcarpet\":[{\"type\":\"contourcarpet\",\"colorbar\":{\"outlinewidth\":0,\"ticks\":\"\"}}],\"contour\":[{\"type\":\"contour\",\"colorbar\":{\"outlinewidth\":0,\"ticks\":\"\"},\"colorscale\":[[0.0,\"#0d0887\"],[0.1111111111111111,\"#46039f\"],[0.2222222222222222,\"#7201a8\"],[0.3333333333333333,\"#9c179e\"],[0.4444444444444444,\"#bd3786\"],[0.5555555555555556,\"#d8576b\"],[0.6666666666666666,\"#ed7953\"],[0.7777777777777778,\"#fb9f3a\"],[0.8888888888888888,\"#fdca26\"],[1.0,\"#f0f921\"]]}],\"surface\":[{\"type\":\"surface\",\"colorbar\":{\"outlinewidth\":0,\"ticks\":\"\"},\"colorscale\":[[0.0,\"#0d0887\"],[0.1111111111111111,\"#46039f\"],[0.2222222222222222,\"#7201a8\"],[0.3333333333333333,\"#9c179e\"],[0.4444444444444444,\"#bd3786\"],[0.5555555555555556,\"#d8576b\"],[0.6666666666666666,\"#ed7953\"],[0.7777777777777778,\"#fb9f3a\"],[0.8888888888888888,\"#fdca26\"],[1.0,\"#f0f921\"]]}],\"mesh3d\":[{\"type\":\"mesh3d\",\"colorbar\":{\"outlinewidth\":0,\"ticks\":\"\"}}],\"scatter\":[{\"fillpattern\":{\"fillmode\":\"overlay\",\"size\":10,\"solidity\":0.2},\"type\":\"scatter\"}],\"parcoords\":[{\"type\":\"parcoords\",\"line\":{\"colorbar\":{\"outlinewidth\":0,\"ticks\":\"\"}}}],\"scatterpolargl\":[{\"type\":\"scatterpolargl\",\"marker\":{\"colorbar\":{\"outlinewidth\":0,\"ticks\":\"\"}}}],\"bar\":[{\"error_x\":{\"color\":\"#2a3f5f\"},\"error_y\":{\"color\":\"#2a3f5f\"},\"marker\":{\"line\":{\"color\":\"#E5ECF6\",\"width\":0.5},\"pattern\":{\"fillmode\":\"overlay\",\"size\":10,\"solidity\":0.2}},\"type\":\"bar\"}],\"scattergeo\":[{\"type\":\"scattergeo\",\"marker\":{\"colorbar\":{\"outlinewidth\":0,\"ticks\":\"\"}}}],\"scatterpolar\":[{\"type\":\"scatterpolar\",\"marker\":{\"colorbar\":{\"outlinewidth\":0,\"ticks\":\"\"}}}],\"histogram\":[{\"marker\":{\"pattern\":{\"fillmode\":\"overlay\",\"size\":10,\"solidity\":0.2}},\"type\":\"histogram\"}],\"scattergl\":[{\"type\":\"scattergl\",\"marker\":{\"colorbar\":{\"outlinewidth\":0,\"ticks\":\"\"}}}],\"scatter3d\":[{\"type\":\"scatter3d\",\"line\":{\"colorbar\":{\"outlinewidth\":0,\"ticks\":\"\"}},\"marker\":{\"colorbar\":{\"outlinewidth\":0,\"ticks\":\"\"}}}],\"scattermapbox\":[{\"type\":\"scattermapbox\",\"marker\":{\"colorbar\":{\"outlinewidth\":0,\"ticks\":\"\"}}}],\"scatterternary\":[{\"type\":\"scatterternary\",\"marker\":{\"colorbar\":{\"outlinewidth\":0,\"ticks\":\"\"}}}],\"scattercarpet\":[{\"type\":\"scattercarpet\",\"marker\":{\"colorbar\":{\"outlinewidth\":0,\"ticks\":\"\"}}}],\"carpet\":[{\"aaxis\":{\"endlinecolor\":\"#2a3f5f\",\"gridcolor\":\"white\",\"linecolor\":\"white\",\"minorgridcolor\":\"white\",\"startlinecolor\":\"#2a3f5f\"},\"baxis\":{\"endlinecolor\":\"#2a3f5f\",\"gridcolor\":\"white\",\"linecolor\":\"white\",\"minorgridcolor\":\"white\",\"startlinecolor\":\"#2a3f5f\"},\"type\":\"carpet\"}],\"table\":[{\"cells\":{\"fill\":{\"color\":\"#EBF0F8\"},\"line\":{\"color\":\"white\"}},\"header\":{\"fill\":{\"color\":\"#C8D4E3\"},\"line\":{\"color\":\"white\"}},\"type\":\"table\"}],\"barpolar\":[{\"marker\":{\"line\":{\"color\":\"#E5ECF6\",\"width\":0.5},\"pattern\":{\"fillmode\":\"overlay\",\"size\":10,\"solidity\":0.2}},\"type\":\"barpolar\"}],\"pie\":[{\"automargin\":true,\"type\":\"pie\"}]},\"layout\":{\"autotypenumbers\":\"strict\",\"colorway\":[\"#636efa\",\"#EF553B\",\"#00cc96\",\"#ab63fa\",\"#FFA15A\",\"#19d3f3\",\"#FF6692\",\"#B6E880\",\"#FF97FF\",\"#FECB52\"],\"font\":{\"color\":\"#2a3f5f\"},\"hovermode\":\"closest\",\"hoverlabel\":{\"align\":\"left\"},\"paper_bgcolor\":\"white\",\"plot_bgcolor\":\"#E5ECF6\",\"polar\":{\"bgcolor\":\"#E5ECF6\",\"angularaxis\":{\"gridcolor\":\"white\",\"linecolor\":\"white\",\"ticks\":\"\"},\"radialaxis\":{\"gridcolor\":\"white\",\"linecolor\":\"white\",\"ticks\":\"\"}},\"ternary\":{\"bgcolor\":\"#E5ECF6\",\"aaxis\":{\"gridcolor\":\"white\",\"linecolor\":\"white\",\"ticks\":\"\"},\"baxis\":{\"gridcolor\":\"white\",\"linecolor\":\"white\",\"ticks\":\"\"},\"caxis\":{\"gridcolor\":\"white\",\"linecolor\":\"white\",\"ticks\":\"\"}},\"coloraxis\":{\"colorbar\":{\"outlinewidth\":0,\"ticks\":\"\"}},\"colorscale\":{\"sequential\":[[0.0,\"#0d0887\"],[0.1111111111111111,\"#46039f\"],[0.2222222222222222,\"#7201a8\"],[0.3333333333333333,\"#9c179e\"],[0.4444444444444444,\"#bd3786\"],[0.5555555555555556,\"#d8576b\"],[0.6666666666666666,\"#ed7953\"],[0.7777777777777778,\"#fb9f3a\"],[0.8888888888888888,\"#fdca26\"],[1.0,\"#f0f921\"]],\"sequentialminus\":[[0.0,\"#0d0887\"],[0.1111111111111111,\"#46039f\"],[0.2222222222222222,\"#7201a8\"],[0.3333333333333333,\"#9c179e\"],[0.4444444444444444,\"#bd3786\"],[0.5555555555555556,\"#d8576b\"],[0.6666666666666666,\"#ed7953\"],[0.7777777777777778,\"#fb9f3a\"],[0.8888888888888888,\"#fdca26\"],[1.0,\"#f0f921\"]],\"diverging\":[[0,\"#8e0152\"],[0.1,\"#c51b7d\"],[0.2,\"#de77ae\"],[0.3,\"#f1b6da\"],[0.4,\"#fde0ef\"],[0.5,\"#f7f7f7\"],[0.6,\"#e6f5d0\"],[0.7,\"#b8e186\"],[0.8,\"#7fbc41\"],[0.9,\"#4d9221\"],[1,\"#276419\"]]},\"xaxis\":{\"gridcolor\":\"white\",\"linecolor\":\"white\",\"ticks\":\"\",\"title\":{\"standoff\":15},\"zerolinecolor\":\"white\",\"automargin\":true,\"zerolinewidth\":2},\"yaxis\":{\"gridcolor\":\"white\",\"linecolor\":\"white\",\"ticks\":\"\",\"title\":{\"standoff\":15},\"zerolinecolor\":\"white\",\"automargin\":true,\"zerolinewidth\":2},\"scene\":{\"xaxis\":{\"backgroundcolor\":\"#E5ECF6\",\"gridcolor\":\"white\",\"linecolor\":\"white\",\"showbackground\":true,\"ticks\":\"\",\"zerolinecolor\":\"white\",\"gridwidth\":2},\"yaxis\":{\"backgroundcolor\":\"#E5ECF6\",\"gridcolor\":\"white\",\"linecolor\":\"white\",\"showbackground\":true,\"ticks\":\"\",\"zerolinecolor\":\"white\",\"gridwidth\":2},\"zaxis\":{\"backgroundcolor\":\"#E5ECF6\",\"gridcolor\":\"white\",\"linecolor\":\"white\",\"showbackground\":true,\"ticks\":\"\",\"zerolinecolor\":\"white\",\"gridwidth\":2}},\"shapedefaults\":{\"line\":{\"color\":\"#2a3f5f\"}},\"annotationdefaults\":{\"arrowcolor\":\"#2a3f5f\",\"arrowhead\":0,\"arrowwidth\":1},\"geo\":{\"bgcolor\":\"white\",\"landcolor\":\"#E5ECF6\",\"subunitcolor\":\"white\",\"showland\":true,\"showlakes\":true,\"lakecolor\":\"white\"},\"title\":{\"x\":0.05},\"mapbox\":{\"style\":\"light\"}}},\"xaxis\":{\"anchor\":\"y\",\"domain\":[0.0,1.0],\"title\":{\"text\":\"Column\"}},\"yaxis\":{\"anchor\":\"x\",\"domain\":[0.0,1.0],\"title\":{\"text\":\"Unique Count\"}},\"legend\":{\"tracegroupgap\":0},\"title\":{\"text\":\"Unique Count of Values per Column\"},\"barmode\":\"relative\"},                        {\"responsive\": true}                    ).then(function(){\n",
       "                            \n",
       "var gd = document.getElementById('394c1fb5-099c-4218-a6d9-dac0714d9cd4');\n",
       "var x = new MutationObserver(function (mutations, observer) {{\n",
       "        var display = window.getComputedStyle(gd).display;\n",
       "        if (!display || display === 'none') {{\n",
       "            console.log([gd, 'removed!']);\n",
       "            Plotly.purge(gd);\n",
       "            observer.disconnect();\n",
       "        }}\n",
       "}});\n",
       "\n",
       "// Listen for the removal of the full notebook cells\n",
       "var notebookContainer = gd.closest('#notebook-container');\n",
       "if (notebookContainer) {{\n",
       "    x.observe(notebookContainer, {childList: true});\n",
       "}}\n",
       "\n",
       "// Listen for the clearing of the current output cell\n",
       "var outputEl = gd.closest('.output');\n",
       "if (outputEl) {{\n",
       "    x.observe(outputEl, {childList: true});\n",
       "}}\n",
       "\n",
       "                        })                };                });            </script>        </div>"
      ]
     },
     "metadata": {},
     "output_type": "display_data"
    }
   ],
   "source": [
    "# Display the summary as an interactive table\n",
    "fig = px.bar(summary_df, x='Column', y='Unique Count', text='Unique Count', title='Unique Count of Values per Column')\n",
    "fig.update_traces(textposition='outside')\n",
    "fig.show()"
   ]
  },
  {
   "cell_type": "code",
   "execution_count": 33,
   "id": "b35beea6-88e1-4cd0-9ee9-7e035a216d4e",
   "metadata": {},
   "outputs": [
    {
     "data": {
      "image/png": "[encoded data removed]",
      "text/plain": [
       "<Figure size 1200x600 with 1 Axes>"
      ]
     },
     "metadata": {},
     "output_type": "display_data"
    }
   ],
   "source": [
    "import matplotlib.pyplot as plt\n",
    "\n",
    "# Create a bar chart\n",
    "plt.figure(figsize=(12, 6))\n",
    "plt.bar(summary_df['Column'], summary_df['Unique Count'], color='skyblue')\n",
    "plt.xticks(rotation=90)\n",
    "plt.xlabel('Columns')\n",
    "plt.ylabel('Unique Count')\n",
    "plt.title('Unique Count of Values per Column')\n",
    "plt.tight_layout()\n",
    "plt.show()"
   ]
  },
  {
   "cell_type": "code",
   "execution_count": 8,
   "id": "8fb012d7",
   "metadata": {
    "scrolled": true
   },
   "outputs": [],
   "source": [
    "cols = []\n",
    "for c in cols:\n",
    "    counts = df[c].value_counts().to_dict()\n",
    "    print(c, len(counts), counts)\n",
    "    print(\"\\n\")"
   ]
  },
  {
   "cell_type": "code",
   "execution_count": 12,
   "id": "f71ddfa6",
   "metadata": {
    "scrolled": true
   },
   "outputs": [
    {
     "data": {
      "image/png": "[encoded data removed]",
      "text/plain": [
       "<Figure size 640x480 with 1 Axes>"
      ]
     },
     "metadata": {},
     "output_type": "display_data"
    },
    {
     "name": "stdout",
     "output_type": "stream",
     "text": [
      "city 270 \n",
      "\n",
      "ADRIAN :  1\n",
      "AKRON :  2\n",
      "ANOKA :  1\n",
      "AVOCA :  65\n",
      "AVOCA, MN :  1\n",
      "Aberdeen :  1\n",
      "Anoka :  1\n",
      "Arvada :  1\n",
      "Aurora :  1\n",
      "Austin :  1\n",
      "Avoca :  15\n",
      "Avoca MN 56114 :  1\n",
      "BALATON :  161\n",
      "BALATON, MN :  4\n",
      "BASCOM :  1\n",
      "BUCKELY :  3\n",
      "BUCKLEY :  5\n",
      "BURNSVILLE :  1\n",
      "Balaton :  25\n",
      "Balaton MN 56115 :  1\n",
      "Baxter :  2\n",
      "Bedford :  1\n",
      "Belle Plaine :  1\n",
      "Bloomington MN :  1\n",
      "Brainerd :  1\n",
      "Brewster :  1\n",
      "Brooklyn :  1\n",
      "Burnsville :  1\n",
      "CALIFORNIA :  1\n",
      "CHANDLER :  79\n",
      "CHANDLER, MN :  7\n",
      "COLUMBUS :  2\n",
      "COON RAPIDS :  1\n",
      "COURTLAND :  2\n",
      "CURRIE :  70\n",
      "Central Point :  1\n",
      "Central Port :  1\n",
      "Chandler :  15\n",
      "Chanhassen  MN 55317 :  1\n",
      "Chanhasson MN 55317 :  1\n",
      "Chatfield  MN 55923 :  1\n",
      "Clear Lake :  1\n",
      "Clive IA 50325 :  1\n",
      "Cold Springs :  1\n",
      "Cottage Grove :  1\n",
      "Courtland :  1\n",
      "Crystal River :  1\n",
      "Currie :  14\n",
      "Currie MN 56123 :  1\n",
      "DOVRAY :  16\n",
      "DULUTH :  1\n",
      "DUNDEE :  64\n",
      "DUNDEE, MN :  1\n",
      "Dakota Dunes :  1\n",
      "Darwin :  1\n",
      "Dewit :  1\n",
      "Dovray :  1\n",
      "Duluth :  1\n",
      "EAGAN :  1\n",
      "EDEN PRAIRIE :  2\n",
      "EDGERTON :  8\n",
      "ENTERPRISE :  1\n",
      "ESTATE :  1\n",
      "Edgerton :  1\n",
      "Edgerton MN 56128 :  2\n",
      "Edina :  1\n",
      "Edina MN 55435 :  1\n",
      "FAIRMONT, MN :  1\n",
      "FARGO :  1\n",
      "FULDA :  133\n",
      "FULDA, MN :  1\n",
      "Fairmont :  1\n",
      "Fergus Falls :  1\n",
      "Fulda :  21\n",
      "Fulda MN 56131 :  1\n",
      "GARVIN :  9\n",
      "GLENDALE, AZ :  1\n",
      "Gambier Ohio  43022 :  1\n",
      "Garvin :  6\n",
      "Garvin MN 56132 :  1\n",
      "Garvin, MN :  1\n",
      "Gaylord :  1\n",
      "Ghent :  1\n",
      "Grand Junction :  1\n",
      "HADLEY :  128\n",
      "HADLEY, MN :  2\n",
      "HAMPTON :  1\n",
      "HENNING :  6\n",
      "HERON LAKE :  1\n",
      "Hadley :  6\n",
      "Hadley MN 56151 :  1\n",
      "Hadley MN 56172 :  1\n",
      "Harrisburg :  1\n",
      "Hopkins :  1\n",
      "Houston :  1\n",
      "Howard Lake :  1\n",
      "Hudson :  1\n",
      "IONA :  177\n",
      "IONA, MN :  5\n",
      "Iona :  13\n",
      "Iona MN 56141 :  1\n",
      "Iona, MN, 56141 :  1\n",
      "Iowa City :  1\n",
      "Jeffers :  1\n",
      "Jordan :  1\n",
      "KANSAS CITY :  3\n",
      "Kasson MN 55944 :  1\n",
      "LAKE SHETEK :  1\n",
      "LAKE WILOSN :  2\n",
      "LAKE WILSON :  174\n",
      "LAKE WILSON MN :  1\n",
      "LAKE WILSON, MN :  2\n",
      "LANESBORO :  1\n",
      "LAS VEGAS :  1\n",
      "LEOTA :  7\n",
      "LIVINGSTON, TX :  1\n",
      "LONGVILLE :  2\n",
      "LUVERNE :  2\n",
      "La Jolla CA  92037 :  1\n",
      "Lake Benton :  7\n",
      "Lake Wilson :  42\n",
      "Lake Wilson MN 56151 :  4\n",
      "Lakeland :  1\n",
      "Lawrence :  1\n",
      "Leota :  2\n",
      "Lexington :  1\n",
      "Lindstrom :  2\n",
      "Luverne, MN :  1\n",
      "Lynd :  1\n",
      "MARSHALL :  5\n",
      "MENDOTA HGTS :  1\n",
      "MESA, AZ :  1\n",
      "MILBANK :  1\n",
      "MINNEAPOLIS :  4\n",
      "MINNEAPOLIS, MN :  3\n",
      "MINNEOTA :  2\n",
      "MLPS, MN :  1\n",
      "MOORHEAD, MN :  1\n",
      "MPLS :  4\n",
      "Mankato  MN  56001 :  1\n",
      "Mankato MN 56001 :  2\n",
      "Manteca :  1\n",
      "Marshall :  8\n",
      "Maynard :  1\n",
      "McCook :  1\n",
      "Meas AZ 85207 :  1\n",
      "Miltona :  1\n",
      "Minnesota :  1\n",
      "Minnetonka :  1\n",
      "Moorhead :  1\n",
      "Mpls :  1\n",
      "NEW BRIGHTON :  6\n",
      "Niwat :  1\n",
      "North Mankato :  1\n",
      "North Mankato MN 56003 :  1\n",
      "Northfield :  1\n",
      "Norwood Young America :  1\n",
      "OAKLAND :  1\n",
      "OLYMPIA, WA :  1\n",
      "Oakdale :  1\n",
      "Oronoco :  2\n",
      "Owatonna :  1\n",
      "PASADENA :  1\n",
      "PIPESTONE :  4\n",
      "PIpestone MN 56161 :  1\n",
      "Panama City :  2\n",
      "Pipestone :  1\n",
      "Pipestone MN  56164 :  1\n",
      "Pleasant :  1\n",
      "Pleasant Hill :  2\n",
      "Plymouth :  1\n",
      "REDWOOD COUNTY :  1\n",
      "ROCHESTER :  3\n",
      "RR BALATON :  6\n",
      "RR CHANDLER :  2\n",
      "RR IONA :  17\n",
      "RR SLAYTON :  1\n",
      "RURAL BALATON :  5\n",
      "RURAL IONA :  6\n",
      "RUSHMORE :  4\n",
      "RUSSELL :  5\n",
      "RUTHTON :  3\n",
      "Redwood Falls :  2\n",
      "Richfield :  1\n",
      "Robbinsdale :  1\n",
      "Rochester :  1\n",
      "Rochester MN 55906 7708 :  1\n",
      "Ruthon :  1\n",
      "Ruthton :  3\n",
      "Ruthton, :  1\n",
      "Ruthton, MN, 56170 :  1\n",
      "SAN ANTONIO :  1\n",
      "SANBORN :  2\n",
      "SARTELL :  1\n",
      "SHAKOPEE, MN :  1\n",
      "SHETEK TOWNSHIP :  2\n",
      "SKANDIA TWP. :  1\n",
      "SLATYON :  3\n",
      "SLAUTON :  2\n",
      "SLAYTON :  1421\n",
      "SLAYTON MN :  79\n",
      "SLAYTON, MN :  35\n",
      "SLAYTON,MN :  2\n",
      "SLAYTOON :  1\n",
      "SPICER :  1\n",
      "SPIRIT LAKE :  1\n",
      "STILLWATER :  12\n",
      "Saint Paul MN 55101 :  1\n",
      "Savage :  2\n",
      "Schofield :  1\n",
      "Shoreview :  1\n",
      "Sibleg :  1\n",
      "Silverton :  2\n",
      "Silverton OR 97381-2426 :  1\n",
      "Sioux Falls :  2\n",
      "Sioux Falls SD 57105 :  1\n",
      "Slayton :  197\n",
      "Slayton  MN 56172 :  1\n",
      "Slayton MN  56172 :  2\n",
      "Slayton MN 56151 :  2\n",
      "Slayton MN 56156 :  1\n",
      "Slayton MN 56172 :  23\n",
      "Slayton MN 57172 :  1\n",
      "Slayton Mn 56172 :  1\n",
      "Slayton Mn 57172 :  1\n",
      "Slayton, MN 56172 :  2\n",
      "Slayton, Minn. 56172 :  1\n",
      "Spicer :  1\n",
      "St. Charles :  2\n",
      "St. Joseph MN 56374 :  1\n",
      "St. Paul :  2\n",
      "St. Paul MN 5516 :  1\n",
      "Stillwater :  1\n",
      "Sun City :  1\n",
      "THEIF RIVER :  1\n",
      "TRACY :  52\n",
      "TYLER :  2\n",
      "Tea :  1\n",
      "Tracy :  8\n",
      "Tracy MN 56175 :  1\n",
      "Tracy, MN 56175 :  1\n",
      "Tucson AZ 85718 :  1\n",
      "UPLAND, CA :  1\n",
      "Ute :  1\n",
      "Vermillian :  1\n",
      "WALNUT GROVE :  2\n",
      "WASHINGTON :  1\n",
      "WESTBROOK :  16\n",
      "WESTBROOK MN :  1\n",
      "WESTBROOK, MN :  1\n",
      "WILMONT :  1\n",
      "WINDOM :  1\n",
      "WINDOM MN :  1\n",
      "WINONA :  9\n",
      "WOODBRIDGE, VA :  1\n",
      "WOODSTOCK :  2\n",
      "WOODSTOCK, MN :  1\n",
      "WORTHINGTON :  8\n",
      "Washington :  1\n",
      "Wilmont MN 56185 :  1\n",
      "Windom :  2\n",
      "Windom MN :  1\n",
      "Woodbury :  1\n",
      "Woodmore :  1\n",
      "Woodridge :  1\n",
      "Worthignton :  1\n",
      "Worthington :  6\n",
      "Worthington  MN 56187 :  1\n",
      "Yuma :  1\n",
      "Zumbrota    MN 55992 :  1\n"
     ]
    }
   ],
   "source": [
    "from collections import Counter\n",
    "from matplotlib import pyplot as plt\n",
    "\n",
    "spec_col = [\"city\"]\n",
    "# spec_col = [\"material\", \"cattype\", \"condition\", \"invnby\", \"objname\"]\n",
    "\n",
    "for col in spec_col:\n",
    "    A = df[col]\n",
    "    freqs = Counter(A)\n",
    "    xvals = range(len(freqs.values()))\n",
    "    plt.bar(xvals, freqs.values() , color='#37777D')\n",
    "    plt.xticks(xvals, freqs.keys())\n",
    "    plt.show() \n",
    "    \n",
    "    counts = df[col].value_counts().to_dict()\n",
    "    print(col, len(counts), \"\\n\")\n",
    "    # Iterate over key/value pairs in dict and print them\n",
    "    for key, value in sorted(counts.items()):\n",
    "        print(key, ': ', value)\n",
    "        \n"
   ]
  },
  {
   "cell_type": "code",
   "execution_count": 6,
   "id": "dd887525",
   "metadata": {
    "scrolled": true
   },
   "outputs": [
    {
     "ename": "NameError",
     "evalue": "name 'Counter' is not defined",
     "output_type": "error",
     "traceback": [
      "\u001b[0;31m---------------------------------------------------------------------------\u001b[0m",
      "\u001b[0;31mNameError\u001b[0m                                 Traceback (most recent call last)",
      "Cell \u001b[0;32mIn[6], line 4\u001b[0m\n\u001b[1;32m      2\u001b[0m \u001b[38;5;28;01mif\u001b[39;00m \u001b[38;5;28mstr\u001b[39m(df[col]\u001b[38;5;241m.\u001b[39mdtype) \u001b[38;5;241m==\u001b[39m \u001b[38;5;124m\"\u001b[39m\u001b[38;5;124mint64\u001b[39m\u001b[38;5;124m\"\u001b[39m \u001b[38;5;129;01mor\u001b[39;00m \u001b[38;5;28mstr\u001b[39m(df[col]\u001b[38;5;241m.\u001b[39mdtype) \u001b[38;5;241m==\u001b[39m \u001b[38;5;124m\"\u001b[39m\u001b[38;5;124mfloat64\u001b[39m\u001b[38;5;124m\"\u001b[39m:\n\u001b[1;32m      3\u001b[0m     C \u001b[38;5;241m=\u001b[39m df[col]\n\u001b[0;32m----> 4\u001b[0m     freqs \u001b[38;5;241m=\u001b[39m \u001b[43mCounter\u001b[49m(C)\n\u001b[1;32m      6\u001b[0m     xvals \u001b[38;5;241m=\u001b[39m \u001b[38;5;28mrange\u001b[39m(\u001b[38;5;28mlen\u001b[39m(freqs\u001b[38;5;241m.\u001b[39mvalues()))\n\u001b[1;32m      7\u001b[0m     plt\u001b[38;5;241m.\u001b[39mbar(xvals, freqs\u001b[38;5;241m.\u001b[39mvalues() , color\u001b[38;5;241m=\u001b[39m\u001b[38;5;124m'\u001b[39m\u001b[38;5;124m#37777D\u001b[39m\u001b[38;5;124m'\u001b[39m)\n",
      "\u001b[0;31mNameError\u001b[0m: name 'Counter' is not defined"
     ]
    }
   ],
   "source": [
    "for col in df.columns[1:]:\n",
    "    if str(df[col].dtype) == \"int64\" or str(df[col].dtype) == \"float64\":\n",
    "        C = df[col]\n",
    "        freqs = Counter(C)\n",
    "\n",
    "        xvals = range(len(freqs.values()))\n",
    "        plt.bar(xvals, freqs.values() , color='#37777D')\n",
    "        plt.xticks(xvals, freqs.keys())\n",
    "        plt.show()\n",
    "        print(col, df[col].dtype)\n",
    "#         print(list(df[col].unique()))\n",
    "        counts = df[col].value_counts().to_dict()\n",
    "        print(col, len(counts), counts)"
   ]
  },
  {
   "cell_type": "code",
   "execution_count": null,
   "id": "2f443880",
   "metadata": {
    "scrolled": true
   },
   "outputs": [],
   "source": [
    "for col in df.columns[1:]:\n",
    "        print(col, df[col].dtype)\n",
    "        counts = df[col].value_counts().to_dict()\n",
    "        print(counts)"
   ]
  },
  {
   "cell_type": "code",
   "execution_count": null,
   "id": "460b0e74",
   "metadata": {},
   "outputs": [],
   "source": [
    "for col in df.columns[1:]:\n",
    "        C = df[col]\n",
    "        freqs = Counter(C)\n",
    "\n",
    "        xvals = range(len(freqs.values()))\n",
    "        plt.bar(xvals, freqs.values() , color='#37777D')\n",
    "        plt.xticks(xvals, freqs.keys())\n",
    "        plt.show()\n",
    "        print(col, df[col].dtype)\n",
    "        if len(list(df[col].unique())) < 50:\n",
    "            print(list(df[col].unique()))"
   ]
  },
  {
   "cell_type": "code",
   "execution_count": 21,
   "id": "de00706a",
   "metadata": {
    "scrolled": true
   },
   "outputs": [
    {
     "data": {
      "text/html": [
       "<div>\n",
       "<style scoped>\n",
       "    .dataframe tbody tr th:only-of-type {\n",
       "        vertical-align: middle;\n",
       "    }\n",
       "\n",
       "    .dataframe tbody tr th {\n",
       "        vertical-align: top;\n",
       "    }\n",
       "\n",
       "    .dataframe thead th {\n",
       "        text-align: right;\n",
       "    }\n",
       "</style>\n",
       "<table border=\"1\" class=\"dataframe\">\n",
       "  <thead>\n",
       "    <tr style=\"text-align: right;\">\n",
       "      <th></th>\n",
       "      <th>accdate</th>\n",
       "      <th>accessno</th>\n",
       "      <th>addname</th>\n",
       "      <th>address1</th>\n",
       "      <th>address12</th>\n",
       "      <th>address2</th>\n",
       "      <th>city</th>\n",
       "      <th>city2</th>\n",
       "      <th>contact</th>\n",
       "      <th>country</th>\n",
       "      <th>...</th>\n",
       "      <th>restrict</th>\n",
       "      <th>state</th>\n",
       "      <th>state2</th>\n",
       "      <th>tyldate</th>\n",
       "      <th>updated</th>\n",
       "      <th>updatedby</th>\n",
       "      <th>website</th>\n",
       "      <th>zip</th>\n",
       "      <th>zip2</th>\n",
       "      <th>ppid</th>\n",
       "    </tr>\n",
       "    <tr>\n",
       "      <th>accby</th>\n",
       "      <th></th>\n",
       "      <th></th>\n",
       "      <th></th>\n",
       "      <th></th>\n",
       "      <th></th>\n",
       "      <th></th>\n",
       "      <th></th>\n",
       "      <th></th>\n",
       "      <th></th>\n",
       "      <th></th>\n",
       "      <th></th>\n",
       "      <th></th>\n",
       "      <th></th>\n",
       "      <th></th>\n",
       "      <th></th>\n",
       "      <th></th>\n",
       "      <th></th>\n",
       "      <th></th>\n",
       "      <th></th>\n",
       "      <th></th>\n",
       "      <th></th>\n",
       "    </tr>\n",
       "  </thead>\n",
       "  <tbody>\n",
       "    <tr>\n",
       "      <th>Unknown</th>\n",
       "      <td>NaN</td>\n",
       "      <td>01</td>\n",
       "      <td>NaN</td>\n",
       "      <td>Unknown</td>\n",
       "      <td>NaN</td>\n",
       "      <td>NaN</td>\n",
       "      <td>Unknown</td>\n",
       "      <td>NaN</td>\n",
       "      <td>NaN</td>\n",
       "      <td>NaN</td>\n",
       "      <td>...</td>\n",
       "      <td>NaN</td>\n",
       "      <td>NaN</td>\n",
       "      <td>NaN</td>\n",
       "      <td>NaN</td>\n",
       "      <td>NaN</td>\n",
       "      <td>NaN</td>\n",
       "      <td>NaN</td>\n",
       "      <td>Canada</td>\n",
       "      <td>NaN</td>\n",
       "      <td>194C1B06-6DEC-4020-AEEE-421168664029</td>\n",
       "    </tr>\n",
       "    <tr>\n",
       "      <th>Unknown</th>\n",
       "      <td>NaN</td>\n",
       "      <td>02</td>\n",
       "      <td>NaN</td>\n",
       "      <td>Unknown</td>\n",
       "      <td>NaN</td>\n",
       "      <td>NaN</td>\n",
       "      <td>Greenbush</td>\n",
       "      <td>NaN</td>\n",
       "      <td>NaN</td>\n",
       "      <td>NaN</td>\n",
       "      <td>...</td>\n",
       "      <td>NaN</td>\n",
       "      <td>MN</td>\n",
       "      <td>NaN</td>\n",
       "      <td>NaN</td>\n",
       "      <td>2016-02-19T14:48:15</td>\n",
       "      <td>Unknown</td>\n",
       "      <td>NaN</td>\n",
       "      <td>56726</td>\n",
       "      <td>NaN</td>\n",
       "      <td>66547587-E366-43A2-BC58-386988532852</td>\n",
       "    </tr>\n",
       "    <tr>\n",
       "      <th>Unknown</th>\n",
       "      <td>NaN</td>\n",
       "      <td>03</td>\n",
       "      <td>NaN</td>\n",
       "      <td>Unknown</td>\n",
       "      <td>NaN</td>\n",
       "      <td>NaN</td>\n",
       "      <td>Unknown</td>\n",
       "      <td>NaN</td>\n",
       "      <td>NaN</td>\n",
       "      <td>NaN</td>\n",
       "      <td>...</td>\n",
       "      <td>NaN</td>\n",
       "      <td>NaN</td>\n",
       "      <td>NaN</td>\n",
       "      <td>NaN</td>\n",
       "      <td>2011-01-20T15:29:09</td>\n",
       "      <td>Unknown</td>\n",
       "      <td>NaN</td>\n",
       "      <td>Unknown</td>\n",
       "      <td>NaN</td>\n",
       "      <td>CDB892ED-EC1A-41A9-BEFD-011615299740</td>\n",
       "    </tr>\n",
       "    <tr>\n",
       "      <th>NaN</th>\n",
       "      <td>NaN</td>\n",
       "      <td>04</td>\n",
       "      <td>NaN</td>\n",
       "      <td>Unknown</td>\n",
       "      <td>NaN</td>\n",
       "      <td>NaN</td>\n",
       "      <td>Unknown</td>\n",
       "      <td>NaN</td>\n",
       "      <td>NaN</td>\n",
       "      <td>NaN</td>\n",
       "      <td>...</td>\n",
       "      <td>NaN</td>\n",
       "      <td>NaN</td>\n",
       "      <td>NaN</td>\n",
       "      <td>NaN</td>\n",
       "      <td>NaN</td>\n",
       "      <td>NaN</td>\n",
       "      <td>NaN</td>\n",
       "      <td>Unknown</td>\n",
       "      <td>NaN</td>\n",
       "      <td>4D5EECAB-84DE-4620-B06C-171038330081</td>\n",
       "    </tr>\n",
       "    <tr>\n",
       "      <th>NaN</th>\n",
       "      <td>NaN</td>\n",
       "      <td>05</td>\n",
       "      <td>Bollie, Albert</td>\n",
       "      <td>Unknown</td>\n",
       "      <td>NaN</td>\n",
       "      <td>NaN</td>\n",
       "      <td>Gatzke</td>\n",
       "      <td>NaN</td>\n",
       "      <td>NaN</td>\n",
       "      <td>NaN</td>\n",
       "      <td>...</td>\n",
       "      <td>NaN</td>\n",
       "      <td>MN</td>\n",
       "      <td>NaN</td>\n",
       "      <td>NaN</td>\n",
       "      <td>2009-11-03T13:52:23</td>\n",
       "      <td>Unknown</td>\n",
       "      <td>NaN</td>\n",
       "      <td>Unknown</td>\n",
       "      <td>NaN</td>\n",
       "      <td>73E9F519-62D9-4396-82CF-053021287090</td>\n",
       "    </tr>\n",
       "    <tr>\n",
       "      <th>...</th>\n",
       "      <td>...</td>\n",
       "      <td>...</td>\n",
       "      <td>...</td>\n",
       "      <td>...</td>\n",
       "      <td>...</td>\n",
       "      <td>...</td>\n",
       "      <td>...</td>\n",
       "      <td>...</td>\n",
       "      <td>...</td>\n",
       "      <td>...</td>\n",
       "      <td>...</td>\n",
       "      <td>...</td>\n",
       "      <td>...</td>\n",
       "      <td>...</td>\n",
       "      <td>...</td>\n",
       "      <td>...</td>\n",
       "      <td>...</td>\n",
       "      <td>...</td>\n",
       "      <td>...</td>\n",
       "      <td>...</td>\n",
       "      <td>...</td>\n",
       "    </tr>\n",
       "    <tr>\n",
       "      <th>NaN</th>\n",
       "      <td>NaN</td>\n",
       "      <td>82</td>\n",
       "      <td>Shetterly, Bob &amp; Joan</td>\n",
       "      <td>Unknown</td>\n",
       "      <td>NaN</td>\n",
       "      <td>NaN</td>\n",
       "      <td>Unknown</td>\n",
       "      <td>NaN</td>\n",
       "      <td>NaN</td>\n",
       "      <td>NaN</td>\n",
       "      <td>...</td>\n",
       "      <td>NaN</td>\n",
       "      <td>NaN</td>\n",
       "      <td>NaN</td>\n",
       "      <td>NaN</td>\n",
       "      <td>2016-05-25T12:42:09</td>\n",
       "      <td>Unknown</td>\n",
       "      <td>NaN</td>\n",
       "      <td>NaN</td>\n",
       "      <td>NaN</td>\n",
       "      <td>59AE0975-90DE-4B26-9B63-193227151590</td>\n",
       "    </tr>\n",
       "    <tr>\n",
       "      <th>NaN</th>\n",
       "      <td>NaN</td>\n",
       "      <td>84</td>\n",
       "      <td>NaN</td>\n",
       "      <td>Unknown</td>\n",
       "      <td>NaN</td>\n",
       "      <td>NaN</td>\n",
       "      <td>Unknown</td>\n",
       "      <td>NaN</td>\n",
       "      <td>NaN</td>\n",
       "      <td>NaN</td>\n",
       "      <td>...</td>\n",
       "      <td>NaN</td>\n",
       "      <td>NaN</td>\n",
       "      <td>NaN</td>\n",
       "      <td>NaN</td>\n",
       "      <td>NaN</td>\n",
       "      <td>NaN</td>\n",
       "      <td>NaN</td>\n",
       "      <td>NaN</td>\n",
       "      <td>NaN</td>\n",
       "      <td>9F4DA8EF-2A4A-4ABB-A36A-509904523226</td>\n",
       "    </tr>\n",
       "    <tr>\n",
       "      <th>NaN</th>\n",
       "      <td>NaN</td>\n",
       "      <td>88</td>\n",
       "      <td>Shetterly, Bob &amp; Joan</td>\n",
       "      <td>Unknown</td>\n",
       "      <td>NaN</td>\n",
       "      <td>NaN</td>\n",
       "      <td>Unknown</td>\n",
       "      <td>NaN</td>\n",
       "      <td>NaN</td>\n",
       "      <td>NaN</td>\n",
       "      <td>...</td>\n",
       "      <td>NaN</td>\n",
       "      <td>NaN</td>\n",
       "      <td>NaN</td>\n",
       "      <td>NaN</td>\n",
       "      <td>2016-05-25T12:42:54</td>\n",
       "      <td>Unknown</td>\n",
       "      <td>NaN</td>\n",
       "      <td>NaN</td>\n",
       "      <td>NaN</td>\n",
       "      <td>A96BEC03-6360-4CCC-86BB-420151621334</td>\n",
       "    </tr>\n",
       "    <tr>\n",
       "      <th>NaN</th>\n",
       "      <td>NaN</td>\n",
       "      <td>101</td>\n",
       "      <td>NaN</td>\n",
       "      <td>Unknown</td>\n",
       "      <td>NaN</td>\n",
       "      <td>NaN</td>\n",
       "      <td>Unknown</td>\n",
       "      <td>NaN</td>\n",
       "      <td>NaN</td>\n",
       "      <td>NaN</td>\n",
       "      <td>...</td>\n",
       "      <td>NaN</td>\n",
       "      <td>NaN</td>\n",
       "      <td>NaN</td>\n",
       "      <td>NaN</td>\n",
       "      <td>NaN</td>\n",
       "      <td>NaN</td>\n",
       "      <td>NaN</td>\n",
       "      <td>NaN</td>\n",
       "      <td>NaN</td>\n",
       "      <td>FCFF0656-C626-428E-84A3-378345212611</td>\n",
       "    </tr>\n",
       "    <tr>\n",
       "      <th>NaN</th>\n",
       "      <td>NaN</td>\n",
       "      <td>102</td>\n",
       "      <td>NaN</td>\n",
       "      <td>Unknown</td>\n",
       "      <td>NaN</td>\n",
       "      <td>NaN</td>\n",
       "      <td>Unknown</td>\n",
       "      <td>NaN</td>\n",
       "      <td>NaN</td>\n",
       "      <td>NaN</td>\n",
       "      <td>...</td>\n",
       "      <td>NaN</td>\n",
       "      <td>NaN</td>\n",
       "      <td>NaN</td>\n",
       "      <td>NaN</td>\n",
       "      <td>NaN</td>\n",
       "      <td>NaN</td>\n",
       "      <td>NaN</td>\n",
       "      <td>NaN</td>\n",
       "      <td>NaN</td>\n",
       "      <td>1289312F-739A-400E-8297-126163958706</td>\n",
       "    </tr>\n",
       "  </tbody>\n",
       "</table>\n",
       "<p>100 rows × 50 columns</p>\n",
       "</div>"
      ],
      "text/plain": [
       "        accdate accessno                addname address1 address12 address2  \\\n",
       "accby                                                                         \n",
       "Unknown     NaN       01                    NaN  Unknown       NaN      NaN   \n",
       "Unknown     NaN       02                    NaN  Unknown       NaN      NaN   \n",
       "Unknown     NaN       03                    NaN  Unknown       NaN      NaN   \n",
       "NaN         NaN       04                    NaN  Unknown       NaN      NaN   \n",
       "NaN         NaN       05         Bollie, Albert  Unknown       NaN      NaN   \n",
       "...         ...      ...                    ...      ...       ...      ...   \n",
       "NaN         NaN       82  Shetterly, Bob & Joan  Unknown       NaN      NaN   \n",
       "NaN         NaN       84                    NaN  Unknown       NaN      NaN   \n",
       "NaN         NaN       88  Shetterly, Bob & Joan  Unknown       NaN      NaN   \n",
       "NaN         NaN      101                    NaN  Unknown       NaN      NaN   \n",
       "NaN         NaN      102                    NaN  Unknown       NaN      NaN   \n",
       "\n",
       "              city city2 contact country  ... restrict state state2 tyldate  \\\n",
       "accby                                     ...                                 \n",
       "Unknown    Unknown   NaN     NaN     NaN  ...      NaN   NaN    NaN     NaN   \n",
       "Unknown  Greenbush   NaN     NaN     NaN  ...      NaN    MN    NaN     NaN   \n",
       "Unknown    Unknown   NaN     NaN     NaN  ...      NaN   NaN    NaN     NaN   \n",
       "NaN        Unknown   NaN     NaN     NaN  ...      NaN   NaN    NaN     NaN   \n",
       "NaN         Gatzke   NaN     NaN     NaN  ...      NaN    MN    NaN     NaN   \n",
       "...            ...   ...     ...     ...  ...      ...   ...    ...     ...   \n",
       "NaN        Unknown   NaN     NaN     NaN  ...      NaN   NaN    NaN     NaN   \n",
       "NaN        Unknown   NaN     NaN     NaN  ...      NaN   NaN    NaN     NaN   \n",
       "NaN        Unknown   NaN     NaN     NaN  ...      NaN   NaN    NaN     NaN   \n",
       "NaN        Unknown   NaN     NaN     NaN  ...      NaN   NaN    NaN     NaN   \n",
       "NaN        Unknown   NaN     NaN     NaN  ...      NaN   NaN    NaN     NaN   \n",
       "\n",
       "                     updated updatedby website      zip  zip2  \\\n",
       "accby                                                           \n",
       "Unknown                  NaN       NaN     NaN   Canada   NaN   \n",
       "Unknown  2016-02-19T14:48:15   Unknown     NaN    56726   NaN   \n",
       "Unknown  2011-01-20T15:29:09   Unknown     NaN  Unknown   NaN   \n",
       "NaN                      NaN       NaN     NaN  Unknown   NaN   \n",
       "NaN      2009-11-03T13:52:23   Unknown     NaN  Unknown   NaN   \n",
       "...                      ...       ...     ...      ...   ...   \n",
       "NaN      2016-05-25T12:42:09   Unknown     NaN      NaN   NaN   \n",
       "NaN                      NaN       NaN     NaN      NaN   NaN   \n",
       "NaN      2016-05-25T12:42:54   Unknown     NaN      NaN   NaN   \n",
       "NaN                      NaN       NaN     NaN      NaN   NaN   \n",
       "NaN                      NaN       NaN     NaN      NaN   NaN   \n",
       "\n",
       "                                         ppid  \n",
       "accby                                          \n",
       "Unknown  194C1B06-6DEC-4020-AEEE-421168664029  \n",
       "Unknown  66547587-E366-43A2-BC58-386988532852  \n",
       "Unknown  CDB892ED-EC1A-41A9-BEFD-011615299740  \n",
       "NaN      4D5EECAB-84DE-4620-B06C-171038330081  \n",
       "NaN      73E9F519-62D9-4396-82CF-053021287090  \n",
       "...                                       ...  \n",
       "NaN      59AE0975-90DE-4B26-9B63-193227151590  \n",
       "NaN      9F4DA8EF-2A4A-4ABB-A36A-509904523226  \n",
       "NaN      A96BEC03-6360-4CCC-86BB-420151621334  \n",
       "NaN      FCFF0656-C626-428E-84A3-378345212611  \n",
       "NaN      1289312F-739A-400E-8297-126163958706  \n",
       "\n",
       "[100 rows x 50 columns]"
      ]
     },
     "execution_count": 21,
     "metadata": {},
     "output_type": "execute_result"
    }
   ],
   "source": [
    "df.head(100)"
   ]
  },
  {
   "cell_type": "code",
   "execution_count": null,
   "id": "a2e8727d",
   "metadata": {},
   "outputs": [],
   "source": [
    "df.loc[(df.type == 'physical_object'),'type'] = 'artifact'"
   ]
  },
  {
   "cell_type": "code",
   "execution_count": null,
   "id": "7b35ae9f",
   "metadata": {},
   "outputs": [],
   "source": [
    "new_df = df[[\"objectid\", \"objname\", \"type\", \"descrip\", \"date\", \"notes\", \"invnby\", \"invndate\", \"material\"]]\n",
    "new_df = new_df.head(10)\n",
    "new_df"
   ]
  },
  {
   "cell_type": "code",
   "execution_count": 22,
   "id": "4f4bd162",
   "metadata": {},
   "outputs": [],
   "source": [
    "df.to_csv('Roseau_PPaccession_pre_processed.csv')"
   ]
  },
  {
   "cell_type": "code",
   "execution_count": null,
   "id": "6f1a1a70-ff66-4978-ae7b-7e5b80dbf1e1",
   "metadata": {},
   "outputs": [],
   "source": []
  }
 ],
 "metadata": {
  "kernelspec": {
   "display_name": "Python 3 (ipykernel)",
   "language": "python",
   "name": "python3"
  },
  "language_info": {
   "codemirror_mode": {
    "name": "ipython",
    "version": 3
   },
   "file_extension": ".py",
   "mimetype": "text/x-python",
   "name": "python",
   "nbconvert_exporter": "python",
   "pygments_lexer": "ipython3",
   "version": "3.12.4"
  }
 },
 "nbformat": 4,
 "nbformat_minor": 5
}
